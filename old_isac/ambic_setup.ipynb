{
 "cells": [
  {
   "cell_type": "markdown",
   "metadata": {},
   "source": [
    "# Starting AMBIC nanopore analysis"
   ]
  },
  {
   "cell_type": "code",
   "execution_count": 24,
   "metadata": {},
   "outputs": [],
   "source": [
    "# let's initialize everything in /mnt/shared\n",
    "ROOT=/mnt/shared\n",
    "cd $ROOT"
   ]
  },
  {
   "cell_type": "markdown",
   "metadata": {},
   "source": [
    "### update or clone git repo"
   ]
  },
  {
   "cell_type": "code",
   "execution_count": 26,
   "metadata": {},
   "outputs": [
    {
     "name": "stdout",
     "output_type": "stream",
     "text": [
      "From https://github.com/timplab/ambic-epigenome\n",
      " * branch            HEAD       -> FETCH_HEAD\n",
      "Already up to date.\n",
      "Data  ambic-epigenome\n"
     ]
    }
   ],
   "source": [
    "if [ -e ambic-epigenome ];then\n",
    "    cd ambic-epigenome \n",
    "    git pull https://github.com/timplab/ambic-epigenome.git\n",
    "else\n",
    "    git clone https://github.com/timplab/ambic-epigenome.git\n",
    "fi\n",
    "cd $ROOT\n",
    "ls "
   ]
  },
  {
   "cell_type": "markdown",
   "metadata": {},
   "source": [
    "### check data"
   ]
  },
  {
   "cell_type": "code",
   "execution_count": 28,
   "metadata": {},
   "outputs": [
    {
     "name": "stdout",
     "output_type": "stream",
     "text": [
      "Data\n",
      "Data/reads\n",
      "Data/reads/CHOK1IgG.fastq.gz\n",
      "Data/reads/CHOK1IgG\n",
      "Data/reads/CHOK1IgG/CHOK1IgG.fast5\n"
     ]
    }
   ],
   "source": [
    "find Data"
   ]
  },
  {
   "cell_type": "markdown",
   "metadata": {},
   "source": [
    "### move to all other usuers"
   ]
  },
  {
   "cell_type": "code",
   "execution_count": 50,
   "metadata": {},
   "outputs": [
    {
     "name": "stdout",
     "output_type": "stream",
     "text": [
      "cp: 'Data' and '/home/jupyter-isac/Data' are the same file\n",
      "cp: 'Untitled.ipynb' and '/home/jupyter-isac/Untitled.ipynb' are the same file\n",
      "cp: 'ambic-epigenome' and '/home/jupyter-isac/ambic-epigenome' are the same file\n",
      "cp: 'ambic-epigenome-dev' and '/home/jupyter-isac/ambic-epigenome-dev' are the same file\n"
     ]
    }
   ],
   "source": [
    "users=$(find /home -maxdepth 1 -type d -name \"jupyter-*\")\n",
    "for user in $users; do\n",
    "    name=$(basename $user)\n",
    "    sudo cp -r * $user\n",
    "    sudo chown -R $name $user\n",
    "done"
   ]
  },
  {
   "cell_type": "markdown",
   "metadata": {},
   "source": [
    "### Let's check "
   ]
  },
  {
   "cell_type": "code",
   "execution_count": 51,
   "metadata": {},
   "outputs": [
    {
     "name": "stdout",
     "output_type": "stream",
     "text": [
      "/home/jupyter-isac:\n",
      "total 20K\n",
      "drwxr-xr-x 3 jupyter-isac root         4.0K Oct 22 18:28 Data\n",
      "-rw-r--r-- 1 jupyter-isac jupyter-isac 4.5K Oct 23 12:24 Untitled.ipynb\n",
      "drwxr-xr-x 8 jupyter-isac jupyter-isac 4.0K Oct 22 18:08 ambic-epigenome\n",
      "drwxr-xr-x 9 jupyter-isac jupyter-isac 4.0K Oct 23 12:24 ambic-epigenome-dev\n",
      "\n",
      "/home/jupyter-test:\n",
      "total 20K\n",
      "drwxr-xr-x 3 jupyter-test root 4.0K Oct 22 18:27 Data\n",
      "-rw-r--r-- 1 jupyter-test root 4.5K Oct 23 12:25 Untitled.ipynb\n",
      "drwxr-xr-x 8 jupyter-test root 4.0K Oct 22 18:09 ambic-epigenome\n",
      "drwxr-xr-x 9 jupyter-test root 4.0K Oct 23 12:24 ambic-epigenome-dev\n",
      "\n",
      "/home/jupyter-user1:\n",
      "total 20K\n",
      "drwxr-xr-x 3 jupyter-user1 root 4.0K Oct 22 18:27 Data\n",
      "-rw-r--r-- 1 jupyter-user1 root 4.5K Oct 23 12:25 Untitled.ipynb\n",
      "drwxr-xr-x 8 jupyter-user1 root 4.0K Oct 22 18:09 ambic-epigenome\n",
      "drwxr-xr-x 9 jupyter-user1 root 4.0K Oct 23 12:24 ambic-epigenome-dev\n"
     ]
    }
   ],
   "source": [
    "sudo ls -lh /home/jupyter* "
   ]
  },
  {
   "cell_type": "markdown",
   "metadata": {},
   "source": [
    "### make sur environment is set up"
   ]
  },
  {
   "cell_type": "code",
   "execution_count": 1,
   "metadata": {},
   "outputs": [
    {
     "name": "stdout",
     "output_type": "stream",
     "text": [
      "[sudo] password for isac: \n"
     ]
    }
   ],
   "source": [
    "#sudo -E conda remove -y -n ambic-epigenome --all\n",
    "sudo conda update -y -n base conda"
   ]
  },
  {
   "cell_type": "code",
   "execution_count": 8,
   "metadata": {},
   "outputs": [
    {
     "name": "stdout",
     "output_type": "stream",
     "text": [
      "Collecting package metadata (repodata.json): done\n",
      "Solving environment: done\n",
      "\n",
      "Downloading and Extracting Packages\n",
      "bcftools-1.9         | 672 KB    | ##################################### | 100% \n",
      "gsl-2.5              | 2.7 MB    | ##################################### | 100% \n",
      "Preparing transaction: done\n",
      "Verifying transaction: done\n",
      "Executing transaction: done\n",
      "#\n",
      "# To activate this environment, use\n",
      "#\n",
      "#     $ conda activate base\n",
      "#\n",
      "# To deactivate an active environment, use\n",
      "#\n",
      "#     $ conda deactivate\n",
      "\n"
     ]
    }
   ],
   "source": [
    "#sudo -E conda env create -f ambic-epigenome-dev/environment.yml\n",
    "sudo conda env update -n base --file ambic-epigenome-dev/environment.yml"
   ]
  },
  {
   "cell_type": "code",
   "execution_count": 46,
   "metadata": {},
   "outputs": [
    {
     "name": "stdout",
     "output_type": "stream",
     "text": [
      "# conda environments:\n",
      "#\n",
      "base                  *  /opt/tljh/user\n",
      "\n"
     ]
    }
   ],
   "source": [
    "conda info --envs"
   ]
  },
  {
   "cell_type": "code",
   "execution_count": 10,
   "metadata": {},
   "outputs": [
    {
     "name": "stdout",
     "output_type": "stream",
     "text": [
      "bcftools 1.9\n",
      "Using htslib 1.9\n",
      "Copyright (C) 2018 Genome Research Ltd.\n",
      "License GPLv3+: GNU GPL version 3 or later <http://gnu.org/licenses/gpl.html>\n",
      "This is free software: you are free to change and redistribute it.\n",
      "There is NO WARRANTY, to the extent permitted by law.\n"
     ]
    }
   ],
   "source": [
    "bcftools --version"
   ]
  },
  {
   "cell_type": "code",
   "execution_count": 7,
   "metadata": {},
   "outputs": [
    {
     "name": "stdout",
     "output_type": "stream",
     "text": [
      "Loading channels: done\n",
      "# Name                       Version           Build  Channel             \n",
      "bcftools                         1.2               0  bioconda            \n",
      "bcftools                         1.2               1  bioconda            \n",
      "bcftools                         1.2               2  bioconda            \n",
      "bcftools                         1.2      h02bfda8_4  bioconda            \n",
      "bcftools                         1.2      h4da6232_3  bioconda            \n",
      "bcftools                         1.3               0  bioconda            \n",
      "bcftools                         1.3               1  bioconda            \n",
      "bcftools                         1.3      h84994c4_3  bioconda            \n",
      "bcftools                         1.3      ha92aebf_2  bioconda            \n",
      "bcftools                       1.3.1               0  bioconda            \n",
      "bcftools                       1.3.1               1  bioconda            \n",
      "bcftools                       1.3.1               2  bioconda            \n",
      "bcftools                       1.3.1      h84994c4_4  bioconda            \n",
      "bcftools                       1.3.1      h84994c4_5  bioconda            \n",
      "bcftools                       1.3.1      ha92aebf_3  bioconda            \n",
      "bcftools                         1.4               0  bioconda            \n",
      "bcftools                       1.4.1               0  bioconda            \n",
      "bcftools                         1.5               0  bioconda            \n",
      "bcftools                         1.5               1  bioconda            \n",
      "bcftools                         1.5               2  bioconda            \n",
      "bcftools                         1.5               3  bioconda            \n",
      "bcftools                         1.6               0  bioconda            \n",
      "bcftools                         1.6               1  bioconda            \n",
      "bcftools                         1.7               0  bioconda            \n",
      "bcftools                         1.8               0  bioconda            \n",
      "bcftools                         1.8               1  bioconda            \n",
      "bcftools                         1.8               2  bioconda            \n",
      "bcftools                         1.8      h4da6232_3  bioconda            \n",
      "bcftools                         1.9      h47928c2_1  bioconda            \n",
      "bcftools                         1.9      h47928c2_2  bioconda            \n",
      "bcftools                         1.9      h5c2b69b_5  bioconda            \n",
      "bcftools                         1.9      h5c2b69b_6  bioconda            \n",
      "bcftools                         1.9      h68d8f2e_7  bioconda            \n",
      "bcftools                         1.9      ha228f0b_3  bioconda            \n",
      "bcftools                         1.9      ha228f0b_4  bioconda            \n"
     ]
    }
   ],
   "source": [
    "conda search -c bioconda -f bcftools"
   ]
  },
  {
   "cell_type": "code",
   "execution_count": null,
   "metadata": {},
   "outputs": [],
   "source": []
  }
 ],
 "metadata": {
  "kernelspec": {
   "display_name": "Bash",
   "language": "bash",
   "name": "bash"
  },
  "language_info": {
   "codemirror_mode": "shell",
   "file_extension": ".sh",
   "mimetype": "text/x-sh",
   "name": "bash"
  }
 },
 "nbformat": 4,
 "nbformat_minor": 4
}
