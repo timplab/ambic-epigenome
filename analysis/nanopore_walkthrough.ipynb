{
 "cells": [
  {
   "cell_type": "markdown",
   "metadata": {},
   "source": [
    "# Analyzing nanopore sequencing data for AMBIC"
   ]
  },
  {
   "cell_type": "markdown",
   "metadata": {},
   "source": [
    "## Set up\n",
    "Necessary softwares should be installed already in here.  \n",
    "They are described in README.md as well as environment.yml.\n",
    "Each step will have the actuall command as well as the snakemake command to do the same thing.\n",
    "Check snakemake_config.yml and make sure that you've edited it to appropriate values for your application."
   ]
  },
  {
   "cell_type": "code",
   "execution_count": 30,
   "metadata": {},
   "outputs": [],
   "source": [
    "# first set working directory\n",
    "workdir=~/Data\n",
    "codedir=$(readlink -f $PWD/../) # this script is inside the repo/analysis, so go up a path\n",
    "cd $codedir\n",
    "reference=/mnt/ref/Cricetulus_griseus_picr.CriGri-PICR.dna.toplevel.nihIgG.fa\n",
    "threads=12\n",
    "\n",
    "# samples\n",
    "sample=CHOK1IgG\n",
    "sample=CHOK1host"
   ]
  },
  {
   "cell_type": "markdown",
   "metadata": {},
   "source": [
    "## Alignment\n",
    "### minimap2\n",
    "First make index for minimap2\n",
    "```\n",
    "minimap2 -x map-ont -d [path/to/index] [path/to/reference.fa]\n",
    "```\n",
    "\n",
    "* -x map-ont : presets for mapping ONT reads\n",
    "* -d [index] : path to output index file\n",
    "* input reference fasta path"
   ]
  },
  {
   "cell_type": "code",
   "execution_count": 17,
   "metadata": {},
   "outputs": [
    {
     "name": "stdout",
     "output_type": "stream",
     "text": [
      "minimap2 -x map-ont -d /mnt/ref/Cricetulus_griseus_picr.CriGri-PICR.dna.toplevel.nihIgG.map_ont.mmi /mnt/ref/Cricetulus_griseus_picr.CriGri-PICR.dna.toplevel.nihIgG.fa\n"
     ]
    }
   ],
   "source": [
    "mmi=${reference%.fa}.map_ont.mmi\n",
    "com=\"minimap2 -x map-ont -d $mmi $reference\"\n",
    "echo $com\n",
    "if [ ! -e $mmi ]; then\n",
    "    eval $com\n",
    "fi"
   ]
  },
  {
   "cell_type": "code",
   "execution_count": 16,
   "metadata": {},
   "outputs": [
    {
     "name": "stdout",
     "output_type": "stream",
     "text": [
      "-rw-r--r-- 1 jupyter-isac jupyter-isac 5.6G Oct 23 11:59 /mnt/ref/Cricetulus_griseus_picr.CriGri-PICR.dna.toplevel.nihIgG.map_ont.mmi\n"
     ]
    }
   ],
   "source": [
    "ls -lh $mmi"
   ]
  },
  {
   "cell_type": "markdown",
   "metadata": {},
   "source": [
    "Then align\n",
    "```\n",
    "minimap2 --MD -L -t [threads] -a [path/to/index] [query] |\\\n",
    "```\n",
    "* --MD : include MD tag (used in sniffles)\n",
    "* -t : cores\n",
    "* -a : index generated in previous step\n",
    "* query fastq file\n",
    "\n",
    "Followed by filter and sort\n",
    "```\n",
    "samtools view -q 20 -b - |\\\n",
    "samtools sort -T [tmp] -o [output bam]\n",
    "```\n",
    "* -q 20 : filter out reads having mapping quality less than 20\n",
    "* -b : output bam format\n",
    "* -T : temporary files prefix\n",
    "* -o : output bam file"
   ]
  },
  {
   "cell_type": "code",
   "execution_count": 20,
   "metadata": {},
   "outputs": [
    {
     "name": "stdout",
     "output_type": "stream",
     "text": [
      "minimap2 --MD -L -t 12 -a /mnt/ref/Cricetulus_griseus_picr.CriGri-PICR.dna.toplevel.nihIgG.map_ont.mmi /home/jupyter-isac/Data_tmp/reads/CHOK1IgG.fastq.gz | samtools view -q 20 -b - | samtools sort -T /home/jupyter-isac/Data_tmp/bam/CHOK1IgG.minimap2.sorting -o /home/jupyter-isac/Data_tmp/bam/CHOK1IgG.minimap2.sorted.bam && samtools index /home/jupyter-isac/Data_tmp/bam/CHOK1IgG.minimap2.sorted.bam\n",
      "[M::main::6.284*1.00] loaded/built the index for 1831 target sequence(s)\n",
      "[M::mm_mapopt_update::7.929*1.00] mid_occ = 490\n",
      "[M::mm_idx_stat] kmer size: 15; skip: 10; is_hpc: 0; #seq: 1831\n",
      "[M::mm_idx_stat::8.796*1.00] distinct minimizers: 92926228 (39.14% are singletons); average occurrences: 4.825; average spacing: 5.284\n",
      "[M::worker_pipeline::12.629*2.81] mapped 3258 sequences\n",
      "[M::main] Version: 2.17-r941\n",
      "[M::main] CMD: minimap2 --MD -L -t 12 -a /mnt/ref/Cricetulus_griseus_picr.CriGri-PICR.dna.toplevel.nihIgG.map_ont.mmi /home/jupyter-isac/Data_tmp/reads/CHOK1IgG.fastq.gz\n",
      "[M::main] Real time: 12.942 sec; CPU: 35.767 sec; Peak RSS: 7.527 GB\n",
      "minimap2 --MD -L -t 12 -a /mnt/ref/Cricetulus_griseus_picr.CriGri-PICR.dna.toplevel.nihIgG.map_ont.mmi /home/jupyter-isac/Data_tmp/reads/CHOK1host.fastq.gz | samtools view -q 20 -b - | samtools sort -T /home/jupyter-isac/Data_tmp/bam/CHOK1host.minimap2.sorting -o /home/jupyter-isac/Data_tmp/bam/CHOK1host.minimap2.sorted.bam && samtools index /home/jupyter-isac/Data_tmp/bam/CHOK1host.minimap2.sorted.bam\n",
      "[M::main::6.353*1.00] loaded/built the index for 1831 target sequence(s)\n",
      "[M::mm_mapopt_update::7.988*1.00] mid_occ = 490\n",
      "[M::mm_idx_stat] kmer size: 15; skip: 10; is_hpc: 0; #seq: 1831\n",
      "[M::mm_idx_stat::8.863*1.00] distinct minimizers: 92926228 (39.14% are singletons); average occurrences: 4.825; average spacing: 5.284\n",
      "[M::worker_pipeline::9.597*1.37] mapped 878 sequences\n",
      "[M::main] Version: 2.17-r941\n",
      "[M::main] CMD: minimap2 --MD -L -t 12 -a /mnt/ref/Cricetulus_griseus_picr.CriGri-PICR.dna.toplevel.nihIgG.map_ont.mmi /home/jupyter-isac/Data_tmp/reads/CHOK1host.fastq.gz\n",
      "[M::main] Real time: 9.979 sec; CPU: 13.569 sec; Peak RSS: 6.743 GB\n"
     ]
    }
   ],
   "source": [
    "[ -e $workdir/bam ]||mkdir $workdir/bam\n",
    "# IgG\n",
    "sample=CHOK1IgG\n",
    "fq=$workdir/reads/$sample.fastq.gz\n",
    "outpre=$workdir/bam/$sample.minimap2\n",
    "output=$outpre.sorted.bam\n",
    "com=\"minimap2 --MD -L -t $threads -a $mmi ${fq} |\\\n",
    "    samtools view -q 20 -b - |\\\n",
    "    samtools sort -T $outpre.sorting -o ${output} &&\\\n",
    "    samtools index ${output}\"\n",
    "echo $com\n",
    "eval $com\n",
    "\n",
    "# host\n",
    "sample=CHOK1host\n",
    "fq=$workdir/reads/$sample.fastq.gz\n",
    "outpre=$workdir/bam/$sample.minimap2\n",
    "output=$outpre.sorted.bam\n",
    "com=\"minimap2 --MD -L -t $threads -a $mmi ${fq} |\\\n",
    "    samtools view -q 20 -b - |\\\n",
    "    samtools sort -T $outpre.sorting -o ${output} &&\\\n",
    "    samtools index ${output}\"\n",
    "echo $com\n",
    "eval $com"
   ]
  },
  {
   "cell_type": "code",
   "execution_count": 22,
   "metadata": {},
   "outputs": [
    {
     "name": "stdout",
     "output_type": "stream",
     "text": [
      "total 44M\n",
      "-rw-r--r-- 1 jupyter-isac jupyter-isac  616 Oct 28 01:19 CHOK1IgG.minimap2.align.log\n",
      "-rw-r--r-- 1 jupyter-isac jupyter-isac  36M Oct 31 02:43 CHOK1IgG.minimap2.sorted.bam\n",
      "-rw-r--r-- 1 jupyter-isac jupyter-isac 692K Oct 31 02:43 CHOK1IgG.minimap2.sorted.bam.bai\n",
      "-rw-r--r-- 1 jupyter-isac jupyter-isac  614 Oct 28 01:19 CHOK1host.minimap2.align.log\n",
      "-rw-r--r-- 1 jupyter-isac jupyter-isac 7.5M Oct 31 02:43 CHOK1host.minimap2.sorted.bam\n",
      "-rw-r--r-- 1 jupyter-isac jupyter-isac  51K Oct 31 02:43 CHOK1host.minimap2.sorted.bam.bai\n"
     ]
    }
   ],
   "source": [
    "ls -lh $workdir/bam"
   ]
  },
  {
   "cell_type": "markdown",
   "metadata": {},
   "source": [
    "snakemake commands : "
   ]
  },
  {
   "cell_type": "code",
   "execution_count": 83,
   "metadata": {},
   "outputs": [
    {
     "name": "stdout",
     "output_type": "stream",
     "text": [
      "rm: cannot remove '/home/jupyter-isac/Data_tmp/bam/*': No such file or directory\n",
      "\u001b[33mBuilding DAG of jobs...\u001b[0m\n",
      "\u001b[33mNothing to be done.\u001b[0m\n",
      "\u001b[33mComplete log: /home/jupyter-isac/ambic-epigenome-dev/.snakemake/log/2019-10-31T051629.439714.snakemake.log\u001b[0m\n",
      "\u001b[33mBuilding DAG of jobs...\u001b[0m\n",
      "\u001b[31mMissingInputException in line 38 of /home/jupyter-isac/ambic-epigenome-dev/snakemake/nanopore_data_parse.smk:\n",
      "Missing input files for rule minimap2_align:\n",
      "reads/CHOK1host.fastq.gz\u001b[0m\n"
     ]
    },
    {
     "ename": "",
     "evalue": "1",
     "output_type": "error",
     "traceback": []
    }
   ],
   "source": [
    "rm $workdir/bam/*\n",
    "\n",
    "output=bam/CHOK1IgG.minimap2.sorted.bam\n",
    "snakemake --cores $threads -p $output\n",
    "\n",
    "output=bam/CHOK1host.minimap2.sorted.bam\n",
    "snakemake --cores $threads -p $output"
   ]
  },
  {
   "cell_type": "code",
   "execution_count": 39,
   "metadata": {},
   "outputs": [
    {
     "name": "stdout",
     "output_type": "stream",
     "text": [
      "total 44M\n",
      "-rw-r--r-- 1 jupyter-isac jupyter-isac  615 Oct 31 02:54 CHOK1IgG.minimap2.align.log\n",
      "-rw-r--r-- 1 jupyter-isac jupyter-isac  36M Oct 31 02:54 CHOK1IgG.minimap2.sorted.bam\n",
      "-rw-r--r-- 1 jupyter-isac jupyter-isac 692K Oct 31 02:54 CHOK1IgG.minimap2.sorted.bam.bai\n",
      "-rw-r--r-- 1 jupyter-isac jupyter-isac  615 Oct 31 02:54 CHOK1host.minimap2.align.log\n",
      "-rw-r--r-- 1 jupyter-isac jupyter-isac 7.5M Oct 31 02:54 CHOK1host.minimap2.sorted.bam\n",
      "-rw-r--r-- 1 jupyter-isac jupyter-isac  51K Oct 31 02:54 CHOK1host.minimap2.sorted.bam.bai\n"
     ]
    }
   ],
   "source": [
    "ls -lh $workdir/bam"
   ]
  },
  {
   "cell_type": "markdown",
   "metadata": {},
   "source": [
    "## Variant detection\n",
    "Sniffles is used to call structural variations.  \n",
    "Only the alignment bam file is necessary for SV calling.   \n",
    "This is split into four parts : \n",
    "1. Separately call SVs\n",
    "2. Merge all SVs\n",
    "3. Force-call SVs in candidates provided by the merged calls in (2)  \n",
    "4. Merge the resulting force-called SVs"
   ]
  },
  {
   "cell_type": "markdown",
   "metadata": {},
   "source": [
    "### first round of calls\n",
    "To call SVs : \n",
    "```\n",
    "sniffles -m [path/to/bam] -v [path/to/vcf] -t [threads] \\\n",
    "    --tmp_file [path/to/tmp] -s 2 \n",
    "```\n",
    "* -m : input bam file\n",
    "* -v : output vcf file\n",
    "* -t : threads\n",
    "* --tmp_file : temporary file path\n",
    "* -s 2 : report any SVs that have at least 2 reads that support the SV\n",
    "\n",
    "Because sniffles output is not sorted, we need to sort the resulting VCF file :\n",
    "```\n",
    "bcftools sort -o [path/to/output.vcf] -T [tmp/dir] [path/to/input.vcf]\n",
    "```\n",
    "* -o : sorted output path\n",
    "* -T : temporary file path\n",
    "* input vcf from SV calls"
   ]
  },
  {
   "cell_type": "code",
   "execution_count": 43,
   "metadata": {},
   "outputs": [
    {
     "name": "stdout",
     "output_type": "stream",
     "text": [
      "sniffles -m /home/jupyter-isac/Data_tmp/bam/CHOK1host.minimap2.sorted.bam -v /home/jupyter-isac/Data_tmp/sv/CHOK1host.minimap2.sniffles.unsorted.vcf -t 12 --tmp_file /home/jupyter-isac/Data_tmp/sv/CHOK1host.minimap2.sniffles.sorted.vcf.tmp -s 2 && bcftools sort -o /home/jupyter-isac/Data_tmp/sv/CHOK1host.minimap2.sniffles.sorted.vcf -T /home/jupyter-isac/Data_tmp/sv /home/jupyter-isac/Data_tmp/sv/CHOK1host.minimap2.sniffles.unsorted.vcf\n",
      "Estimating parameter...\n",
      "\tMax dist between aln events: 5\n",
      "\tMax diff in window: 50\n",
      "\tMin score ratio: 2\n",
      "\tAvg DEL ratio: 0.0745178\n",
      "\tAvg INS ratio: 0.0408241\n",
      "Start parsing... RAZU01000102.1\n",
      "\tSwitch Chr RAZU01000102.1\n",
      "\tSwitch Chr RAZU01000002.1\n",
      "\tSwitch Chr 4_0cdhfr_vrc01wtg1m3_dgv\n",
      "Finalizing  ..\n",
      "Writing to /home/jupyter-isac/Data_tmp/sv\n",
      "Merging 1 temporary files\n",
      "Cleaning\n",
      "Done\n",
      "sniffles -m /home/jupyter-isac/Data_tmp/bam/CHOK1IgG.minimap2.sorted.bam -v /home/jupyter-isac/Data_tmp/sv/CHOK1IgG.minimap2.sniffles.unsorted.vcf -t 12 --tmp_file /home/jupyter-isac/Data_tmp/sv/CHOK1IgG.minimap2.sniffles.sorted.vcf.tmp -s 2 && bcftools sort -o /home/jupyter-isac/Data_tmp/sv/CHOK1IgG.minimap2.sniffles.sorted.vcf -T /home/jupyter-isac/Data_tmp/sv /home/jupyter-isac/Data_tmp/sv/CHOK1IgG.minimap2.sniffles.unsorted.vcf\n",
      "Estimating parameter...\n",
      "\tMax dist between aln events: 5\n",
      "\tMax diff in window: 50\n",
      "\tMin score ratio: 2\n",
      "\tAvg DEL ratio: 0.07934\n",
      "\tAvg INS ratio: 0.0388698\n",
      "Start parsing... RAZU01000074.1\n",
      "\tSwitch Chr RAZU01000102.1\n",
      "\tSwitch Chr RAZU01000002.1\n",
      "\tSwitch Chr 4_0cdhfr_vrc01wtg1m3_dgv\n",
      "Finalizing  ..\n",
      "\tprocessing merged TRA\n",
      "Writing to /home/jupyter-isac/Data_tmp/sv\n",
      "Merging 1 temporary files\n",
      "Cleaning\n",
      "Done\n"
     ]
    }
   ],
   "source": [
    "svdir=$workdir/sv\n",
    "[ -e $svdir ]||mkdir $svdir\n",
    "\n",
    "sample=CHOK1host\n",
    "bam=$workdir/bam/$sample.minimap2.sorted.bam\n",
    "vcftmp=$svdir/$sample.minimap2.sniffles.unsorted.vcf\n",
    "vcf=$svdir/$sample.minimap2.sniffles.sorted.vcf\n",
    "\n",
    "com=\"sniffles -m $bam -v $vcftmp -t $threads \\\n",
    "    --tmp_file $vcf.tmp \\\n",
    "    -s 2  &&\\\n",
    "    bcftools sort -o $vcf -T $svdir $vcftmp\"\n",
    "echo $com\n",
    "eval $com\n",
    "rm $vcftmp\n",
    "\n",
    "sample=CHOK1IgG\n",
    "bam=$workdir/bam/$sample.minimap2.sorted.bam\n",
    "vcftmp=$svdir/$sample.minimap2.sniffles.unsorted.vcf\n",
    "vcf=$svdir/$sample.minimap2.sniffles.sorted.vcf\n",
    "\n",
    "com=\"sniffles -m $bam -v $vcftmp -t $threads \\\n",
    "    --tmp_file $vcf.tmp \\\n",
    "    -s 2  &&\\\n",
    "    bcftools sort -o $vcf -T $svdir $vcftmp\"\n",
    "echo $com\n",
    "eval $com\n",
    "rm $vcftmp"
   ]
  },
  {
   "cell_type": "code",
   "execution_count": 47,
   "metadata": {},
   "outputs": [
    {
     "name": "stdout",
     "output_type": "stream",
     "text": [
      "\u001b[33mBuilding DAG of jobs...\u001b[0m\n",
      "\u001b[33mUsing shell: /bin/bash\u001b[0m\n",
      "\u001b[33mProvided cores: 12\u001b[0m\n",
      "\u001b[33mRules claiming more threads will be scaled down.\u001b[0m\n",
      "\u001b[33mJob counts:\n",
      "\tcount\tjobs\n",
      "\t1\tsniffles_sv\n",
      "\t1\tsort_vcf\n",
      "\t2\u001b[0m\n",
      "\u001b[32m\u001b[0m\n",
      "\u001b[32m[Thu Oct 31 03:11:41 2019]\u001b[0m\n",
      "\u001b[32mrule sniffles_sv:\n",
      "    input: bam/CHOK1host.minimap2.sorted.bam\n",
      "    output: sv/CHOK1host.minimap2.sniffles.unsorted.vcf\n",
      "    log: sv/CHOK1host.minimap2.sniffles.log\n",
      "    jobid: 1\n",
      "    wildcards: sample=CHOK1host.minimap2\n",
      "    threads: 12\u001b[0m\n",
      "\u001b[32m\u001b[0m\n",
      "\u001b[33msniffles -m bam/CHOK1host.minimap2.sorted.bam -v sv/CHOK1host.minimap2.sniffles.unsorted.vcf -t 12 --tmp_file sv/CHOK1host.minimap2.sniffles.tmp -s 2  &> sv/CHOK1host.minimap2.sniffles.log\u001b[0m\n",
      "\u001b[32m[Thu Oct 31 03:11:41 2019]\u001b[0m\n",
      "\u001b[32mFinished job 1.\u001b[0m\n",
      "\u001b[32m1 of 2 steps (50%) done\u001b[0m\n",
      "\u001b[32m\u001b[0m\n",
      "\u001b[32m[Thu Oct 31 03:11:41 2019]\u001b[0m\n",
      "\u001b[32mrule sort_vcf:\n",
      "    input: sv/CHOK1host.minimap2.sniffles.unsorted.vcf\n",
      "    output: sv/CHOK1host.minimap2.sniffles.sorted.vcf\n",
      "    jobid: 0\n",
      "    wildcards: sample=CHOK1host.minimap2.sniffles\u001b[0m\n",
      "\u001b[32m\u001b[0m\n",
      "\u001b[33mbcftools sort -o sv/CHOK1host.minimap2.sniffles.sorted.vcf -T sv sv/CHOK1host.minimap2.sniffles.unsorted.vcf\u001b[0m\n",
      "Writing to sv\n",
      "Merging 1 temporary files\n",
      "Cleaning\n",
      "Done\n",
      "\u001b[33mRemoving temporary output file sv/CHOK1host.minimap2.sniffles.unsorted.vcf.\u001b[0m\n",
      "\u001b[32m[Thu Oct 31 03:11:41 2019]\u001b[0m\n",
      "\u001b[32mFinished job 0.\u001b[0m\n",
      "\u001b[32m2 of 2 steps (100%) done\u001b[0m\n",
      "\u001b[33mComplete log: /home/jupyter-isac/ambic-epigenome-dev/.snakemake/log/2019-10-31T031140.966283.snakemake.log\u001b[0m\n",
      "\u001b[33mBuilding DAG of jobs...\u001b[0m\n",
      "\u001b[33mUsing shell: /bin/bash\u001b[0m\n",
      "\u001b[33mProvided cores: 12\u001b[0m\n",
      "\u001b[33mRules claiming more threads will be scaled down.\u001b[0m\n",
      "\u001b[33mJob counts:\n",
      "\tcount\tjobs\n",
      "\t1\tsniffles_sv\n",
      "\t1\tsort_vcf\n",
      "\t2\u001b[0m\n",
      "\u001b[32m\u001b[0m\n",
      "\u001b[32m[Thu Oct 31 03:11:42 2019]\u001b[0m\n",
      "\u001b[32mrule sniffles_sv:\n",
      "    input: bam/CHOK1IgG.minimap2.sorted.bam\n",
      "    output: sv/CHOK1IgG.minimap2.sniffles.unsorted.vcf\n",
      "    log: sv/CHOK1IgG.minimap2.sniffles.log\n",
      "    jobid: 1\n",
      "    wildcards: sample=CHOK1IgG.minimap2\n",
      "    threads: 12\u001b[0m\n",
      "\u001b[32m\u001b[0m\n",
      "\u001b[33msniffles -m bam/CHOK1IgG.minimap2.sorted.bam -v sv/CHOK1IgG.minimap2.sniffles.unsorted.vcf -t 12 --tmp_file sv/CHOK1IgG.minimap2.sniffles.tmp -s 2  &> sv/CHOK1IgG.minimap2.sniffles.log\u001b[0m\n",
      "\u001b[32m[Thu Oct 31 03:11:45 2019]\u001b[0m\n",
      "\u001b[32mFinished job 1.\u001b[0m\n",
      "\u001b[32m1 of 2 steps (50%) done\u001b[0m\n",
      "\u001b[32m\u001b[0m\n",
      "\u001b[32m[Thu Oct 31 03:11:45 2019]\u001b[0m\n",
      "\u001b[32mrule sort_vcf:\n",
      "    input: sv/CHOK1IgG.minimap2.sniffles.unsorted.vcf\n",
      "    output: sv/CHOK1IgG.minimap2.sniffles.sorted.vcf\n",
      "    jobid: 0\n",
      "    wildcards: sample=CHOK1IgG.minimap2.sniffles\u001b[0m\n",
      "\u001b[32m\u001b[0m\n",
      "\u001b[33mbcftools sort -o sv/CHOK1IgG.minimap2.sniffles.sorted.vcf -T sv sv/CHOK1IgG.minimap2.sniffles.unsorted.vcf\u001b[0m\n",
      "Writing to sv\n",
      "Merging 1 temporary files\n",
      "Cleaning\n",
      "Done\n",
      "\u001b[33mRemoving temporary output file sv/CHOK1IgG.minimap2.sniffles.unsorted.vcf.\u001b[0m\n",
      "\u001b[32m[Thu Oct 31 03:11:45 2019]\u001b[0m\n",
      "\u001b[32mFinished job 0.\u001b[0m\n",
      "\u001b[32m2 of 2 steps (100%) done\u001b[0m\n",
      "\u001b[33mComplete log: /home/jupyter-isac/ambic-epigenome-dev/.snakemake/log/2019-10-31T031142.001494.snakemake.log\u001b[0m\n"
     ]
    }
   ],
   "source": [
    "rm $workdir/sv/*\n",
    "vcf=sv/CHOK1host.minimap2.sniffles.sorted.vcf\n",
    "snakemake -j 12 -p $vcf\n",
    "vcf=sv/CHOK1IgG.minimap2.sniffles.sorted.vcf\n",
    "snakemake -j 12 -p $vcf"
   ]
  },
  {
   "cell_type": "code",
   "execution_count": 48,
   "metadata": {},
   "outputs": [
    {
     "name": "stdout",
     "output_type": "stream",
     "text": [
      "total 228K\n",
      "-rw-r--r-- 1 jupyter-isac jupyter-isac  311 Oct 31 03:11 CHOK1IgG.minimap2.sniffles.log\n",
      "-rw-r--r-- 1 jupyter-isac jupyter-isac 125K Oct 31 03:11 CHOK1IgG.minimap2.sniffles.sorted.vcf\n",
      "-rw-r--r-- 1 jupyter-isac jupyter-isac  290 Oct 31 03:11 CHOK1host.minimap2.sniffles.log\n",
      "-rw-r--r-- 1 jupyter-isac jupyter-isac  90K Oct 31 03:11 CHOK1host.minimap2.sniffles.sorted.vcf\n"
     ]
    }
   ],
   "source": [
    "ls -lh $workdir/sv"
   ]
  },
  {
   "cell_type": "markdown",
   "metadata": {},
   "source": [
    "### merge calls\n",
    "Using SURVIVOR to merge calls.\n",
    "First save the list of vcfs in a file, separated by newlines :\n",
    "```\n",
    "echo [vcfs] | tr \" \" \"\\n\" > [filelist.txt]\n",
    "```\n",
    "Then use feed this list to SURVIVOR :\n",
    "```\n",
    "SURVIVOR merge [filelist.txt] 1000 1 1 -1 -1 -1 [out.vcf]\n",
    "```"
   ]
  },
  {
   "cell_type": "code",
   "execution_count": 49,
   "metadata": {},
   "outputs": [
    {
     "name": "stdout",
     "output_type": "stream",
     "text": [
      "merging entries: 116\n",
      "merging entries: 33\n"
     ]
    }
   ],
   "source": [
    "vcfs=$(find $workdir/sv -name \"*sniffles.sorted.vcf\")\n",
    "raw=$workdir/sv/raw_calls.txt\n",
    "merged=$workdir/sv/SURVIVOR_merged_1kbpdist_typesave.vcf\n",
    "echo $vcfs | tr \" \" \"\\n\" > $raw\n",
    "\n",
    "SURVIVOR merge $raw 1000 1 1 -1 -1 -1 $merged"
   ]
  },
  {
   "cell_type": "code",
   "execution_count": 51,
   "metadata": {},
   "outputs": [
    {
     "name": "stdout",
     "output_type": "stream",
     "text": [
      "\u001b[33mBuilding DAG of jobs...\u001b[0m\n",
      "\u001b[33mUsing shell: /bin/bash\u001b[0m\n",
      "\u001b[33mProvided cores: 12\u001b[0m\n",
      "\u001b[33mRules claiming more threads will be scaled down.\u001b[0m\n",
      "\u001b[33mJob counts:\n",
      "\tcount\tjobs\n",
      "\t1\tmerge_sv_before_forcecall\n",
      "\t2\tsniffles_sv\n",
      "\t2\tsort_vcf\n",
      "\t5\u001b[0m\n",
      "\u001b[32m\u001b[0m\n",
      "\u001b[32m[Thu Oct 31 03:15:03 2019]\u001b[0m\n",
      "\u001b[32mrule sniffles_sv:\n",
      "    input: bam/CHOK1IgG.minimap2.sorted.bam\n",
      "    output: sv/CHOK1IgG.minimap2.sniffles.unsorted.vcf\n",
      "    log: sv/CHOK1IgG.minimap2.sniffles.log\n",
      "    jobid: 3\n",
      "    wildcards: sample=CHOK1IgG.minimap2\n",
      "    threads: 12\u001b[0m\n",
      "\u001b[32m\u001b[0m\n",
      "\u001b[33msniffles -m bam/CHOK1IgG.minimap2.sorted.bam -v sv/CHOK1IgG.minimap2.sniffles.unsorted.vcf -t 12 --tmp_file sv/CHOK1IgG.minimap2.sniffles.tmp -s 2  &> sv/CHOK1IgG.minimap2.sniffles.log\u001b[0m\n",
      "\u001b[32m[Thu Oct 31 03:15:06 2019]\u001b[0m\n",
      "\u001b[32mFinished job 3.\u001b[0m\n",
      "\u001b[32m1 of 5 steps (20%) done\u001b[0m\n",
      "\u001b[32m\u001b[0m\n",
      "\u001b[32m[Thu Oct 31 03:15:06 2019]\u001b[0m\n",
      "\u001b[32mrule sort_vcf:\n",
      "    input: sv/CHOK1IgG.minimap2.sniffles.unsorted.vcf\n",
      "    output: sv/CHOK1IgG.minimap2.sniffles.sorted.vcf\n",
      "    jobid: 1\n",
      "    wildcards: sample=CHOK1IgG.minimap2.sniffles\u001b[0m\n",
      "\u001b[32m\u001b[0m\n",
      "\u001b[33mbcftools sort -o sv/CHOK1IgG.minimap2.sniffles.sorted.vcf -T sv sv/CHOK1IgG.minimap2.sniffles.unsorted.vcf\u001b[0m\n",
      "Writing to sv\n",
      "Merging 1 temporary files\n",
      "Cleaning\n",
      "Done\n",
      "\u001b[33mRemoving temporary output file sv/CHOK1IgG.minimap2.sniffles.unsorted.vcf.\u001b[0m\n",
      "\u001b[32m[Thu Oct 31 03:15:06 2019]\u001b[0m\n",
      "\u001b[32mFinished job 1.\u001b[0m\n",
      "\u001b[32m2 of 5 steps (40%) done\u001b[0m\n",
      "\u001b[32m\u001b[0m\n",
      "\u001b[32m[Thu Oct 31 03:15:06 2019]\u001b[0m\n",
      "\u001b[32mrule sniffles_sv:\n",
      "    input: bam/CHOK1host.minimap2.sorted.bam\n",
      "    output: sv/CHOK1host.minimap2.sniffles.unsorted.vcf\n",
      "    log: sv/CHOK1host.minimap2.sniffles.log\n",
      "    jobid: 4\n",
      "    wildcards: sample=CHOK1host.minimap2\n",
      "    threads: 12\u001b[0m\n",
      "\u001b[32m\u001b[0m\n",
      "\u001b[33msniffles -m bam/CHOK1host.minimap2.sorted.bam -v sv/CHOK1host.minimap2.sniffles.unsorted.vcf -t 12 --tmp_file sv/CHOK1host.minimap2.sniffles.tmp -s 2  &> sv/CHOK1host.minimap2.sniffles.log\u001b[0m\n",
      "\u001b[32m[Thu Oct 31 03:15:07 2019]\u001b[0m\n",
      "\u001b[32mFinished job 4.\u001b[0m\n",
      "\u001b[32m3 of 5 steps (60%) done\u001b[0m\n",
      "\u001b[32m\u001b[0m\n",
      "\u001b[32m[Thu Oct 31 03:15:07 2019]\u001b[0m\n",
      "\u001b[32mrule sort_vcf:\n",
      "    input: sv/CHOK1host.minimap2.sniffles.unsorted.vcf\n",
      "    output: sv/CHOK1host.minimap2.sniffles.sorted.vcf\n",
      "    jobid: 2\n",
      "    wildcards: sample=CHOK1host.minimap2.sniffles\u001b[0m\n",
      "\u001b[32m\u001b[0m\n",
      "\u001b[33mbcftools sort -o sv/CHOK1host.minimap2.sniffles.sorted.vcf -T sv sv/CHOK1host.minimap2.sniffles.unsorted.vcf\u001b[0m\n",
      "Writing to sv\n",
      "Merging 1 temporary files\n",
      "Cleaning\n",
      "Done\n",
      "\u001b[33mRemoving temporary output file sv/CHOK1host.minimap2.sniffles.unsorted.vcf.\u001b[0m\n",
      "\u001b[32m[Thu Oct 31 03:15:07 2019]\u001b[0m\n",
      "\u001b[32mFinished job 2.\u001b[0m\n",
      "\u001b[32m4 of 5 steps (80%) done\u001b[0m\n",
      "\u001b[32m\u001b[0m\n",
      "\u001b[32m[Thu Oct 31 03:15:07 2019]\u001b[0m\n",
      "\u001b[32mrule merge_sv_before_forcecall:\n",
      "    input: sv/CHOK1IgG.minimap2.sniffles.sorted.vcf, sv/CHOK1host.minimap2.sniffles.sorted.vcf\n",
      "    output: sv/raw_calls.txt, sv/SURVIVOR_merged_1kbpdist_typesave.vcf\n",
      "    jobid: 0\u001b[0m\n",
      "\u001b[32m\u001b[0m\n",
      "\u001b[33mecho sv/CHOK1IgG.minimap2.sniffles.sorted.vcf sv/CHOK1host.minimap2.sniffles.sorted.vcf | tr \" \" \"\\n\" > sv/raw_calls.txt && SURVIVOR merge sv/raw_calls.txt 1000 1 1 -1 -1 -1 sv/SURVIVOR_merged_1kbpdist_typesave.vcf\u001b[0m\n",
      "merging entries: 117\n",
      "merging entries: 32\n",
      "\u001b[32m[Thu Oct 31 03:15:07 2019]\u001b[0m\n",
      "\u001b[32mFinished job 0.\u001b[0m\n",
      "\u001b[32m5 of 5 steps (100%) done\u001b[0m\n",
      "\u001b[33mComplete log: /home/jupyter-isac/ambic-epigenome-dev/.snakemake/log/2019-10-31T031503.296991.snakemake.log\u001b[0m\n"
     ]
    }
   ],
   "source": [
    "rm $workdir/sv/*\n",
    "merged=sv/SURVIVOR_merged_1kbpdist_typesave.vcf\n",
    "snakemake -j 12 -p $merged"
   ]
  },
  {
   "cell_type": "markdown",
   "metadata": {},
   "source": [
    "### force calls for SVs in merged calls\n",
    "Redo SV calling on individual samples.  \n",
    "paramters are mostly the same, but this time we provide the candidate VCF.  \n",
    "```\n",
    "sniffles -m [path/to/bam] -v [path/to/out.vcf] -t [threads] \\\n",
    "    --Ivcf [merged.vcf] --tmp_file [path/to/tmp] \\\n",
    "     -s 2 -n -1\n",
    "```\n",
    "* --Ivcf : candidate vcf to force-call SVs in these\n",
    "* -n -1 : report query names of all reads that support the SV\n"
   ]
  },
  {
   "cell_type": "code",
   "execution_count": 52,
   "metadata": {},
   "outputs": [
    {
     "name": "stdout",
     "output_type": "stream",
     "text": [
      "sniffles -m /home/jupyter-isac/Data_tmp/bam/CHOK1host.minimap2.sorted.bam -v /home/jupyter-isac/Data_tmp/sv/CHOK1host.SURVIVOR.sorted.vcf -t 12 --Ivcf /home/jupyter-isac/Data_tmp/sv/SURVIVOR_merged_1kbpdist_typesave.vcf --tmp_file /home/jupyter-isac/Data_tmp/sv/.SURVIVORsniffles.tmp -s 2 -n -1\n",
      "Automatically enabling genotype mode\n",
      "Force calling SVs\n",
      "Estimating parameter...\n",
      "\tMax dist between aln events: 5\n",
      "\tMax diff in window: 50\n",
      "\tMin score ratio: 2\n",
      "\tAvg DEL ratio: 0.0745178\n",
      "\tAvg INS ratio: 0.0408241\n",
      "Construct Tree...\n",
      "\t\t109 SVs found in input.\n",
      "\tInvalid types found skipping 0 entries.\n",
      "Start parsing: Chr RAZU01000074.1\n",
      "\tSwitch Chr RAZU01000102.1\n",
      "\tSwitch Chr RAZU01000002.1\n",
      "\tSwitch Chr 4_0cdhfr_vrc01wtg1m3_dgv\n",
      "Finalizing  ..\n",
      "Start genotype calling:\n",
      "\tConstruct tree\n",
      "\tUpdate reference alleles\n",
      "\t\tScanning CHR RAZU01000102.1\n",
      "\t\tScanning CHR RAZU01000002.1\n",
      "\t\tScanning CHR 4_0cdhfr_vrc01wtg1m3_dgv\n",
      "\tWriting SV calls\n",
      "\tCleaning tmp files\n",
      "sniffles -m /home/jupyter-isac/Data_tmp/bam/CHOK1IgG.minimap2.sorted.bam -v /home/jupyter-isac/Data_tmp/sv/CHOK1IgG.SURVIVOR.sorted.vcf -t 12 --Ivcf /home/jupyter-isac/Data_tmp/sv/SURVIVOR_merged_1kbpdist_typesave.vcf --tmp_file /home/jupyter-isac/Data_tmp/sv/.SURVIVORsniffles.tmp -s 2 -n -1\n",
      "Automatically enabling genotype mode\n",
      "Force calling SVs\n",
      "Estimating parameter...\n",
      "\tMax dist between aln events: 5\n",
      "\tMax diff in window: 50\n",
      "\tMin score ratio: 2\n",
      "\tAvg DEL ratio: 0.07934\n",
      "\tAvg INS ratio: 0.0388698\n",
      "Construct Tree...\n",
      "\t\t109 SVs found in input.\n",
      "\tInvalid types found skipping 0 entries.\n",
      "Start parsing: Chr RAZU01000074.1\n",
      "\tSwitch Chr RAZU01000102.1\n",
      "\tSwitch Chr RAZU01000002.1\n",
      "\tSwitch Chr 4_0cdhfr_vrc01wtg1m3_dgv\n",
      "Finalizing  ..\n",
      "Start genotype calling:\n",
      "\tConstruct tree\n",
      "\tUpdate reference alleles\n",
      "\t\tScanning CHR RAZU01000102.1\n",
      "\t\tScanning CHR RAZU01000002.1\n",
      "\t\tScanning CHR 4_0cdhfr_vrc01wtg1m3_dgv\n",
      "\tWriting SV calls\n",
      "\tCleaning tmp files\n"
     ]
    }
   ],
   "source": [
    "sample=CHOK1host\n",
    "bam=$workdir/bam/$sample.minimap2.sorted.bam\n",
    "merged=$workdir/sv/SURVIVOR_merged_1kbpdist_typesave.vcf\n",
    "vcftmp=$workdir/sv/$sample.SURVIVOR.unsorted.vcf\n",
    "vcf=$workdir/sv/$sample.SURVIVOR.sorted.vcf\n",
    "com=\"sniffles -m $bam -v $vcf -t $threads \\\n",
    "    --Ivcf $merged --tmp_file \\\n",
    "    $workdir/sv/$samp.SURVIVORsniffles.tmp \\\n",
    "    -s 2 -n -1\"\n",
    "echo $com\n",
    "eval $com\n",
    "\n",
    "sample=CHOK1IgG\n",
    "bam=$workdir/bam/$sample.minimap2.sorted.bam\n",
    "merged=$workdir/sv/SURVIVOR_merged_1kbpdist_typesave.vcf\n",
    "vcftmp=$workdir/sv/$sample.SURVIVOR.unsorted.vcf\n",
    "vcf=$workdir/sv/$sample.SURVIVOR.sorted.vcf\n",
    "com=\"sniffles -m $bam -v $vcf -t $threads \\\n",
    "    --Ivcf $merged --tmp_file \\\n",
    "    $workdir/sv/$samp.SURVIVORsniffles.tmp \\\n",
    "    -s 2 -n -1\"\n",
    "echo $com\n",
    "eval $com"
   ]
  },
  {
   "cell_type": "markdown",
   "metadata": {},
   "source": [
    "### Final merging\n",
    "Finally merge the force-called SVs using the same commands with slight change in the SURVIVOR options\n",
    "```\n",
    "SURVIVOR merge [filelist.txt] 1000 -1 1 -1 -1 -1 [out.vcf]\n",
    "```\n"
   ]
  },
  {
   "cell_type": "code",
   "execution_count": null,
   "metadata": {},
   "outputs": [],
   "source": [
    "raw=$workdir/sv/SURVIVORsniffles_calls.txt\n",
    "vcfs=$(find $workdir/sv -name \"*SURVIVOR.sorted.vcf\")\n",
    "merged=$workdir/sv/merged_final_SURVIVOR_1kbpdist_typesave.vcf\n",
    "\n",
    "echo $vcfs | tr \" \" \"\\n\" > $raw\n",
    "SURVIVOR merge $raw 1000 -1 1 -1 -1 -1 $merged"
   ]
  },
  {
   "cell_type": "markdown",
   "metadata": {},
   "source": [
    "### Run snakemake to automate all of the SV calling process\n",
    "simply give snakemake the name of the resulting vcf to run all necessary commands to generate the file"
   ]
  },
  {
   "cell_type": "code",
   "execution_count": 54,
   "metadata": {},
   "outputs": [
    {
     "name": "stdout",
     "output_type": "stream",
     "text": [
      "snakemake -j 12 sv/merged_final_SURVIVOR_1kbpdist_typesave.vcf\n",
      "\u001b[33mBuilding DAG of jobs...\u001b[0m\n",
      "\u001b[33mUsing shell: /bin/bash\u001b[0m\n",
      "\u001b[33mProvided cores: 12\u001b[0m\n",
      "\u001b[33mRules claiming more threads will be scaled down.\u001b[0m\n",
      "\u001b[33mJob counts:\n",
      "\tcount\tjobs\n",
      "\t1\tmerge_sv_before_forcecall\n",
      "\t1\tmerge_sv_final\n",
      "\t2\tsniffles_sv\n",
      "\t2\tsniffles_sv_forcecall\n",
      "\t4\tsort_vcf\n",
      "\t10\u001b[0m\n",
      "\u001b[32m\u001b[0m\n",
      "\u001b[32m[Thu Oct 31 03:23:04 2019]\u001b[0m\n",
      "\u001b[32mrule sniffles_sv:\n",
      "    input: bam/CHOK1IgG.minimap2.sorted.bam\n",
      "    output: sv/CHOK1IgG.minimap2.sniffles.unsorted.vcf\n",
      "    log: sv/CHOK1IgG.minimap2.sniffles.log\n",
      "    jobid: 11\n",
      "    wildcards: sample=CHOK1IgG.minimap2\n",
      "    threads: 12\u001b[0m\n",
      "\u001b[32m\u001b[0m\n",
      "\u001b[32m[Thu Oct 31 03:23:07 2019]\u001b[0m\n",
      "\u001b[32mFinished job 11.\u001b[0m\n",
      "\u001b[32m1 of 10 steps (10%) done\u001b[0m\n",
      "\u001b[32m\u001b[0m\n",
      "\u001b[32m[Thu Oct 31 03:23:07 2019]\u001b[0m\n",
      "\u001b[32mrule sort_vcf:\n",
      "    input: sv/CHOK1IgG.minimap2.sniffles.unsorted.vcf\n",
      "    output: sv/CHOK1IgG.minimap2.sniffles.sorted.vcf\n",
      "    jobid: 9\n",
      "    wildcards: sample=CHOK1IgG.minimap2.sniffles\u001b[0m\n",
      "\u001b[32m\u001b[0m\n",
      "Writing to sv\n",
      "Merging 1 temporary files\n",
      "Cleaning\n",
      "Done\n",
      "\u001b[33mRemoving temporary output file sv/CHOK1IgG.minimap2.sniffles.unsorted.vcf.\u001b[0m\n",
      "\u001b[32m[Thu Oct 31 03:23:07 2019]\u001b[0m\n",
      "\u001b[32mFinished job 9.\u001b[0m\n",
      "\u001b[32m2 of 10 steps (20%) done\u001b[0m\n",
      "\u001b[32m\u001b[0m\n",
      "\u001b[32m[Thu Oct 31 03:23:07 2019]\u001b[0m\n",
      "\u001b[32mrule sniffles_sv:\n",
      "    input: bam/CHOK1host.minimap2.sorted.bam\n",
      "    output: sv/CHOK1host.minimap2.sniffles.unsorted.vcf\n",
      "    log: sv/CHOK1host.minimap2.sniffles.log\n",
      "    jobid: 12\n",
      "    wildcards: sample=CHOK1host.minimap2\n",
      "    threads: 12\u001b[0m\n",
      "\u001b[32m\u001b[0m\n",
      "\u001b[32m[Thu Oct 31 03:23:07 2019]\u001b[0m\n",
      "\u001b[32mFinished job 12.\u001b[0m\n",
      "\u001b[32m3 of 10 steps (30%) done\u001b[0m\n",
      "\u001b[32m\u001b[0m\n",
      "\u001b[32m[Thu Oct 31 03:23:07 2019]\u001b[0m\n",
      "\u001b[32mrule sort_vcf:\n",
      "    input: sv/CHOK1host.minimap2.sniffles.unsorted.vcf\n",
      "    output: sv/CHOK1host.minimap2.sniffles.sorted.vcf\n",
      "    jobid: 10\n",
      "    wildcards: sample=CHOK1host.minimap2.sniffles\u001b[0m\n",
      "\u001b[32m\u001b[0m\n",
      "Writing to sv\n",
      "Merging 1 temporary files\n",
      "Cleaning\n",
      "Done\n",
      "\u001b[33mRemoving temporary output file sv/CHOK1host.minimap2.sniffles.unsorted.vcf.\u001b[0m\n",
      "\u001b[32m[Thu Oct 31 03:23:07 2019]\u001b[0m\n",
      "\u001b[32mFinished job 10.\u001b[0m\n",
      "\u001b[32m4 of 10 steps (40%) done\u001b[0m\n",
      "\u001b[32m\u001b[0m\n",
      "\u001b[32m[Thu Oct 31 03:23:07 2019]\u001b[0m\n",
      "\u001b[32mrule merge_sv_before_forcecall:\n",
      "    input: sv/CHOK1IgG.minimap2.sniffles.sorted.vcf, sv/CHOK1host.minimap2.sniffles.sorted.vcf\n",
      "    output: sv/raw_calls.txt, sv/SURVIVOR_merged_1kbpdist_typesave.vcf\n",
      "    jobid: 6\u001b[0m\n",
      "\u001b[32m\u001b[0m\n",
      "merging entries: 111\n",
      "merging entries: 35\n",
      "\u001b[33mRemoving temporary output file sv/raw_calls.txt.\u001b[0m\n",
      "\u001b[32m[Thu Oct 31 03:23:07 2019]\u001b[0m\n",
      "\u001b[32mFinished job 6.\u001b[0m\n",
      "\u001b[32m5 of 10 steps (50%) done\u001b[0m\n",
      "\u001b[32m\u001b[0m\n",
      "\u001b[32m[Thu Oct 31 03:23:07 2019]\u001b[0m\n",
      "\u001b[32mrule sniffles_sv_forcecall:\n",
      "    input: bam/CHOK1IgG.minimap2.sorted.bam, sv/SURVIVOR_merged_1kbpdist_typesave.vcf\n",
      "    output: sv/CHOK1IgG.minimap2.SURVIVOR.unsorted.vcf\n",
      "    log: sv/CHOK1IgG.minimap2.SURVIVORsniffles.log\n",
      "    jobid: 3\n",
      "    wildcards: sample=CHOK1IgG.minimap2\n",
      "    threads: 12\u001b[0m\n",
      "\u001b[32m\u001b[0m\n",
      "\u001b[32m[Thu Oct 31 03:23:10 2019]\u001b[0m\n",
      "\u001b[32mFinished job 3.\u001b[0m\n",
      "\u001b[32m6 of 10 steps (60%) done\u001b[0m\n",
      "\u001b[32m\u001b[0m\n",
      "\u001b[32m[Thu Oct 31 03:23:10 2019]\u001b[0m\n",
      "\u001b[32mrule sort_vcf:\n",
      "    input: sv/CHOK1IgG.minimap2.SURVIVOR.unsorted.vcf\n",
      "    output: sv/CHOK1IgG.minimap2.SURVIVOR.sorted.vcf\n",
      "    jobid: 1\n",
      "    wildcards: sample=CHOK1IgG.minimap2.SURVIVOR\u001b[0m\n",
      "\u001b[32m\u001b[0m\n",
      "Writing to sv\n",
      "Merging 1 temporary files\n",
      "Cleaning\n",
      "Done\n",
      "\u001b[33mRemoving temporary output file sv/CHOK1IgG.minimap2.SURVIVOR.unsorted.vcf.\u001b[0m\n",
      "\u001b[32m[Thu Oct 31 03:23:10 2019]\u001b[0m\n",
      "\u001b[32mFinished job 1.\u001b[0m\n",
      "\u001b[32m7 of 10 steps (70%) done\u001b[0m\n",
      "\u001b[32m\u001b[0m\n",
      "\u001b[32m[Thu Oct 31 03:23:10 2019]\u001b[0m\n",
      "\u001b[32mrule sniffles_sv_forcecall:\n",
      "    input: bam/CHOK1host.minimap2.sorted.bam, sv/SURVIVOR_merged_1kbpdist_typesave.vcf\n",
      "    output: sv/CHOK1host.minimap2.SURVIVOR.unsorted.vcf\n",
      "    log: sv/CHOK1host.minimap2.SURVIVORsniffles.log\n",
      "    jobid: 4\n",
      "    wildcards: sample=CHOK1host.minimap2\n",
      "    threads: 12\u001b[0m\n",
      "\u001b[32m\u001b[0m\n",
      "\u001b[32m[Thu Oct 31 03:23:11 2019]\u001b[0m\n",
      "\u001b[32mFinished job 4.\u001b[0m\n",
      "\u001b[32m8 of 10 steps (80%) done\u001b[0m\n",
      "\u001b[32m\u001b[0m\n",
      "\u001b[32m[Thu Oct 31 03:23:11 2019]\u001b[0m\n",
      "\u001b[32mrule sort_vcf:\n",
      "    input: sv/CHOK1host.minimap2.SURVIVOR.unsorted.vcf\n",
      "    output: sv/CHOK1host.minimap2.SURVIVOR.sorted.vcf\n",
      "    jobid: 2\n",
      "    wildcards: sample=CHOK1host.minimap2.SURVIVOR\u001b[0m\n",
      "\u001b[32m\u001b[0m\n",
      "Writing to sv\n",
      "Merging 1 temporary files\n",
      "Cleaning\n",
      "Done\n",
      "\u001b[33mRemoving temporary output file sv/CHOK1host.minimap2.SURVIVOR.unsorted.vcf.\u001b[0m\n",
      "\u001b[32m[Thu Oct 31 03:23:11 2019]\u001b[0m\n",
      "\u001b[32mFinished job 2.\u001b[0m\n",
      "\u001b[32m9 of 10 steps (90%) done\u001b[0m\n",
      "\u001b[32m\u001b[0m\n",
      "\u001b[32m[Thu Oct 31 03:23:11 2019]\u001b[0m\n",
      "\u001b[32mrule merge_sv_final:\n",
      "    input: sv/CHOK1IgG.minimap2.SURVIVOR.sorted.vcf, sv/CHOK1host.minimap2.SURVIVOR.sorted.vcf\n",
      "    output: sv/SURVIVORsniffles_calls.txt, sv/merged_final_SURVIVOR_1kbpdist_typesave.vcf\n",
      "    jobid: 0\u001b[0m\n",
      "\u001b[32m\u001b[0m\n",
      "merging entries: 91\n",
      "merging entries: 91\n",
      "\u001b[32m[Thu Oct 31 03:23:11 2019]\u001b[0m\n",
      "\u001b[32mFinished job 0.\u001b[0m\n",
      "\u001b[32m10 of 10 steps (100%) done\u001b[0m\n",
      "\u001b[33mComplete log: /home/jupyter-isac/ambic-epigenome-dev/.snakemake/log/2019-10-31T032304.254668.snakemake.log\u001b[0m\n"
     ]
    }
   ],
   "source": [
    "rm $workdir/sv/*\n",
    "vcf_final=sv/merged_final_SURVIVOR_1kbpdist_typesave.vcf\n",
    "com=\"snakemake -j 12 $vcf_final\"\n",
    "echo $com\n",
    "eval $com"
   ]
  },
  {
   "cell_type": "markdown",
   "metadata": {},
   "source": [
    "### Output file\n",
    "The output of this is a merged vcf,  \n",
    "where each row represents an SV,  \n",
    "and the last N columns correspond to the SV calling result for each of the N samples."
   ]
  },
  {
   "cell_type": "code",
   "execution_count": 81,
   "metadata": {},
   "outputs": [
    {
     "name": "stdout",
     "output_type": "stream",
     "text": [
      "#CHROM\tPOS\tID\tREF\tALT\tQUAL\tFILTER\tINFO\tFORMAT\tbam/CHOK1IgG.minimap2.sorted.bam\tbam/CHOK1host.minimap2.sorted.bam\n",
      "RAZU01000002.1\t6220834\t9\tN\tN[4_0cdhfr_vrc01wtg1m3_dgv:11910[\t.\tPASS\tSUPP=1;SUPP_VEC=10;SVLEN=0;SVTYPE=TRA;SVMETHOD=SURVIVOR1.0.6;CHR2=4_0cdhfr_vrc01wtg1m3_dgv;END=11910;CIPOS=0,0;CIEND=0,0;STRANDS=++\tGT:PSV:LN:DR:ST:QV:TY:ID:RAL:AAL:CO\t1/1:NA:6208924:4,19:++:.:TRA:9_0:NA:NA:RAZU01000002.1_6220834-4_0cdhfr_vrc01wtg1m3_dgv_11910\t0/0:NA:6208924:2,0:++:.:TRA:9:NA:NA:RAZU01000002.1_6220834-4_0cdhfr_vrc01wtg1m3_dgv_11910\n"
     ]
    }
   ],
   "source": [
    "grep \"#CHROM\" $workdir/$vcf_final | tail\n",
    "grep \"=TRA\" $workdir/$vcf_final | head -n1"
   ]
  },
  {
   "cell_type": "markdown",
   "metadata": {},
   "source": [
    "For visualization of these SVs, genome ribbon is a good tool (http://genomeribbon.com/)\n",
    "![genome_ribbon](../img/CHOK1IgG_ribbon.PNG)"
   ]
  },
  {
   "cell_type": "markdown",
   "metadata": {},
   "source": [
    "## Metylation calling\n",
    "We use nanopolish for methylation calling \n",
    "### nanopolish index\n",
    "First step is to index the reads.  \n",
    "This step scans through the reads and fast5 files to fiind the association between the reads and fast5 files.  \n",
    "```\n",
    "nanopolish index -d [path/to/fast5s] [ -s [path/to/sequencing_summary.txt] ] [path/to/reads.fastq(a)]\n",
    "```\n",
    "* -d : directory of fast5s ; nanopolish requires fast5 files to be around and uncompressed\n",
    "* -s (optional) : Because the sequencing_summary.txt file has the fast5 names for each read, users can provide the summary file to dramatically speed up the indexing process.\n",
    "* input fastq/a : input fastq/a file of the basecalled reads"
   ]
  },
  {
   "cell_type": "code",
   "execution_count": 60,
   "metadata": {},
   "outputs": [
    {
     "name": "stdout",
     "output_type": "stream",
     "text": [
      "[readdb] indexing /home/jupyter-isac/Data_tmp/reads/CHOK1IgG\n",
      "[readdb] num reads: 3258, num reads with path to fast5: 3258\n",
      "[readdb] indexing /home/jupyter-isac/Data_tmp/reads/CHOK1host\n",
      "[readdb] num reads: 878, num reads with path to fast5: 878\n"
     ]
    }
   ],
   "source": [
    "rdir=$workdir/reads/CHOK1IgG\n",
    "fq=$workdir/reads/CHOK1IgG.fastq.gz\n",
    "nanopolish index -d $rdir $fq\n",
    "\n",
    "rdir=$workdir/reads/CHOK1host\n",
    "fq=$workdir/reads/CHOK1host.fastq.gz\n",
    "nanopolish index -d $rdir $fq"
   ]
  },
  {
   "cell_type": "code",
   "execution_count": 66,
   "metadata": {},
   "outputs": [
    {
     "name": "stdout",
     "output_type": "stream",
     "text": [
      "rm: cannot remove '/home/jupyter-isac/Data_tmp/reads/*index*': No such file or directory\n",
      "\u001b[33mBuilding DAG of jobs...\u001b[0m\n",
      "\u001b[33mUsing shell: /bin/bash\u001b[0m\n",
      "\u001b[33mProvided cores: 1\u001b[0m\n",
      "\u001b[33mRules claiming more threads will be scaled down.\u001b[0m\n",
      "\u001b[33mJob counts:\n",
      "\tcount\tjobs\n",
      "\t1\tnanopolish_index\n",
      "\t1\u001b[0m\n",
      "\u001b[32m\u001b[0m\n",
      "\u001b[32m[Thu Oct 31 03:38:08 2019]\u001b[0m\n",
      "\u001b[32mrule nanopolish_index:\n",
      "    input: reads/CHOK1IgG.fastq.gz\n",
      "    output: reads/CHOK1IgG.fastq.gz.index.readdb\n",
      "    jobid: 0\n",
      "    wildcards: pre=reads/CHOK1IgG\u001b[0m\n",
      "\u001b[32m\u001b[0m\n",
      "\u001b[33mnanopolish index --verbose -d reads/CHOK1IgG reads/CHOK1IgG.fastq.gz &> reads/CHOK1IgG.index.log\u001b[0m\n",
      "\u001b[32m[Thu Oct 31 03:38:09 2019]\u001b[0m\n",
      "\u001b[32mFinished job 0.\u001b[0m\n",
      "\u001b[32m1 of 1 steps (100%) done\u001b[0m\n",
      "\u001b[33mComplete log: /home/jupyter-isac/ambic-epigenome-dev/.snakemake/log/2019-10-31T033807.886540.snakemake.log\u001b[0m\n",
      "\u001b[33mBuilding DAG of jobs...\u001b[0m\n",
      "\u001b[33mUsing shell: /bin/bash\u001b[0m\n",
      "\u001b[33mProvided cores: 1\u001b[0m\n",
      "\u001b[33mRules claiming more threads will be scaled down.\u001b[0m\n",
      "\u001b[33mJob counts:\n",
      "\tcount\tjobs\n",
      "\t1\tnanopolish_index\n",
      "\t1\u001b[0m\n",
      "\u001b[32m\u001b[0m\n",
      "\u001b[32m[Thu Oct 31 03:38:10 2019]\u001b[0m\n",
      "\u001b[32mrule nanopolish_index:\n",
      "    input: reads/CHOK1host.fastq.gz\n",
      "    output: reads/CHOK1host.fastq.gz.index.readdb\n",
      "    jobid: 0\n",
      "    wildcards: pre=reads/CHOK1host\u001b[0m\n",
      "\u001b[32m\u001b[0m\n",
      "\u001b[33mnanopolish index --verbose -d reads/CHOK1host reads/CHOK1host.fastq.gz &> reads/CHOK1host.index.log\u001b[0m\n",
      "\u001b[32m[Thu Oct 31 03:38:10 2019]\u001b[0m\n",
      "\u001b[32mFinished job 0.\u001b[0m\n",
      "\u001b[32m1 of 1 steps (100%) done\u001b[0m\n",
      "\u001b[33mComplete log: /home/jupyter-isac/ambic-epigenome-dev/.snakemake/log/2019-10-31T033809.902784.snakemake.log\u001b[0m\n"
     ]
    }
   ],
   "source": [
    "rm $workdir/reads/*index*\n",
    "output=reads/CHOK1IgG.fastq.gz.index.readdb\n",
    "snakemake -p $output\n",
    "output=reads/CHOK1host.fastq.gz.index.readdb\n",
    "snakemake -p $output"
   ]
  },
  {
   "cell_type": "code",
   "execution_count": 67,
   "metadata": {},
   "outputs": [
    {
     "name": "stdout",
     "output_type": "stream",
     "text": [
      "total 41M\n",
      "drwxr-xr-x 2 jupyter-isac jupyter-isac 480K Oct 28 01:18 CHOK1IgG\n",
      "-rw-r--r-- 1 jupyter-isac jupyter-isac  25M Oct 28 01:18 CHOK1IgG.fastq.gz\n",
      "-rw-r--r-- 1 jupyter-isac jupyter-isac 7.3M Oct 31 03:38 CHOK1IgG.fastq.gz.index\n",
      "-rw-r--r-- 1 jupyter-isac jupyter-isac 193K Oct 31 03:38 CHOK1IgG.fastq.gz.index.fai\n",
      "-rw-r--r-- 1 jupyter-isac jupyter-isac 6.4K Oct 31 03:38 CHOK1IgG.fastq.gz.index.gzi\n",
      "-rw-r--r-- 1 jupyter-isac jupyter-isac 471K Oct 31 03:38 CHOK1IgG.fastq.gz.index.readdb\n",
      "-rw-r--r-- 1 jupyter-isac jupyter-isac   94 Oct 31 03:38 CHOK1IgG.index.log\n",
      "drwxr-xr-x 2 jupyter-isac jupyter-isac 124K Oct 28 01:18 CHOK1host\n",
      "-rw-r--r-- 1 jupyter-isac jupyter-isac 5.9M Oct 28 01:18 CHOK1host.fastq.gz\n",
      "-rw-r--r-- 1 jupyter-isac jupyter-isac 1.8M Oct 31 03:38 CHOK1host.fastq.gz.index\n",
      "-rw-r--r-- 1 jupyter-isac jupyter-isac  52K Oct 31 03:38 CHOK1host.fastq.gz.index.fai\n",
      "-rw-r--r-- 1 jupyter-isac jupyter-isac 1.6K Oct 31 03:38 CHOK1host.fastq.gz.index.gzi\n",
      "-rw-r--r-- 1 jupyter-isac jupyter-isac 126K Oct 31 03:38 CHOK1host.fastq.gz.index.readdb\n",
      "-rw-r--r-- 1 jupyter-isac jupyter-isac   93 Oct 31 03:38 CHOK1host.index.log\n"
     ]
    }
   ],
   "source": [
    "ls -lh $workdir/reads"
   ]
  },
  {
   "cell_type": "markdown",
   "metadata": {},
   "source": [
    "### call methylation\n",
    "Once indexing is done, methylation can be called :\n",
    "```\n",
    "nanopolish call-methylation -t [threads] -q cpg \\\n",
    "    -g [path/to/reference] -r [path/to/fastq] -b [path/to/bam] |\\\n",
    "    gzip > [path/to/out.gz]\n",
    "```\n",
    "* -q cpg : specifying that CpG methylation is being called\n",
    "* -g : path for reference fasta\n",
    "* -r : path to the fastq/a file that has been index by nanopolish\n",
    "* -b : path to the bam alignments file"
   ]
  },
  {
   "cell_type": "code",
   "execution_count": 58,
   "metadata": {},
   "outputs": [
    {
     "name": "stdout",
     "output_type": "stream",
     "text": [
      "[post-run summary] total reads: 6388, unparseable: 0, qc fail: 1, could not calibrate: 3, no alignment: 867, bad fast5: 0\n"
     ]
    }
   ],
   "source": [
    "outdir=$workdir/methylation\n",
    "[ -e $outdir ]||mkdir $outdir\n",
    "\n",
    "sample=CHOK1IgG\n",
    "fastq=$workdir/reads/$sample.fastq.gz\n",
    "bam=$workdir/bam/$sample.minimap2.sorted.bam\n",
    "output=$outdir/$sample.cpg.meth.tsv.gz\n",
    "\n",
    "nanopolish call-methylation -v -t ${threads} -q cpg \\\n",
    "    -g $reference -r $fastq -b $bam |\\\n",
    "    gzip > $output\n",
    "    \n",
    "sample=CHOK1host\n",
    "fastq=$workdir/reads/$sample.fastq.gz\n",
    "bam=$workdir/bam/$sample.minimap2.sorted.bam\n",
    "output=$outdir/$sample.cpg.meth.tsv.gz\n",
    "\n",
    "nanopolish call-methylation -v -t ${threads} -q cpg \\\n",
    "    -g $reference -r $fastq -b $bam |\\\n",
    "    gzip > $output"
   ]
  },
  {
   "cell_type": "code",
   "execution_count": 68,
   "metadata": {},
   "outputs": [
    {
     "name": "stdout",
     "output_type": "stream",
     "text": [
      "\u001b[33mBuilding DAG of jobs...\u001b[0m\n",
      "\u001b[33mUsing shell: /bin/bash\u001b[0m\n",
      "\u001b[33mProvided cores: 12\u001b[0m\n",
      "\u001b[33mRules claiming more threads will be scaled down.\u001b[0m\n",
      "\u001b[33mJob counts:\n",
      "\tcount\tjobs\n",
      "\t1\tcall_cpg\n",
      "\t1\u001b[0m\n",
      "\u001b[32m\u001b[0m\n",
      "\u001b[32m[Thu Oct 31 04:12:58 2019]\u001b[0m\n",
      "\u001b[32mrule call_cpg:\n",
      "    input: reads/CHOK1IgG.fastq.gz, bam/CHOK1IgG.minimap2.sorted.bam, reads/CHOK1IgG.fastq.gz.index.readdb\n",
      "    output: methylation/CHOK1IgG.cpg.meth.tsv.gz\n",
      "    jobid: 0\n",
      "    wildcards: sample=CHOK1IgG\n",
      "    threads: 12\u001b[0m\n",
      "\u001b[32m\u001b[0m\n",
      "\u001b[33mnanopolish call-methylation -v -t 12 -q cpg -g /mnt/ref/Cricetulus_griseus_picr.CriGri-PICR.dna.toplevel.nihIgG.fa -r reads/CHOK1IgG.fastq.gz -b bam/CHOK1IgG.minimap2.sorted.bam | gzip > methylation/CHOK1IgG.cpg.meth.tsv.gz\u001b[0m\n",
      "[post-run summary] total reads: 8118, unparseable: 0, qc fail: 1, could not calibrate: 4, no alignment: 977, bad fast5: 0\n",
      "\u001b[32m[Thu Oct 31 04:14:35 2019]\u001b[0m\n",
      "\u001b[32mFinished job 0.\u001b[0m\n",
      "\u001b[32m1 of 1 steps (100%) done\u001b[0m\n",
      "\u001b[33mComplete log: /home/jupyter-isac/ambic-epigenome-dev/.snakemake/log/2019-10-31T041258.024053.snakemake.log\u001b[0m\n",
      "\u001b[33mBuilding DAG of jobs...\u001b[0m\n",
      "\u001b[33mUsing shell: /bin/bash\u001b[0m\n",
      "\u001b[33mProvided cores: 12\u001b[0m\n",
      "\u001b[33mRules claiming more threads will be scaled down.\u001b[0m\n",
      "\u001b[33mJob counts:\n",
      "\tcount\tjobs\n",
      "\t1\tcall_cpg\n",
      "\t1\u001b[0m\n",
      "\u001b[32m\u001b[0m\n",
      "\u001b[32m[Thu Oct 31 04:14:36 2019]\u001b[0m\n",
      "\u001b[32mrule call_cpg:\n",
      "    input: reads/CHOK1host.fastq.gz, bam/CHOK1host.minimap2.sorted.bam, reads/CHOK1host.fastq.gz.index.readdb\n",
      "    output: methylation/CHOK1host.cpg.meth.tsv.gz\n",
      "    jobid: 0\n",
      "    wildcards: sample=CHOK1host\n",
      "    threads: 12\u001b[0m\n",
      "\u001b[32m\u001b[0m\n",
      "\u001b[33mnanopolish call-methylation -v -t 12 -q cpg -g /mnt/ref/Cricetulus_griseus_picr.CriGri-PICR.dna.toplevel.nihIgG.fa -r reads/CHOK1host.fastq.gz -b bam/CHOK1host.minimap2.sorted.bam | gzip > methylation/CHOK1host.cpg.meth.tsv.gz\u001b[0m\n",
      "[post-run summary] total reads: 1106, unparseable: 0, qc fail: 0, could not calibrate: 0, no alignment: 103, bad fast5: 0\n",
      "\u001b[32m[Thu Oct 31 04:14:42 2019]\u001b[0m\n",
      "\u001b[32mFinished job 0.\u001b[0m\n",
      "\u001b[32m1 of 1 steps (100%) done\u001b[0m\n",
      "\u001b[33mComplete log: /home/jupyter-isac/ambic-epigenome-dev/.snakemake/log/2019-10-31T041436.207408.snakemake.log\u001b[0m\n"
     ]
    }
   ],
   "source": [
    "#rm $workdir/methylation/*\n",
    "sample=CHOK1IgG\n",
    "output=methylation/$sample.cpg.meth.tsv.gz\n",
    "snakemake -j $threads -p $output\n",
    "\n",
    "sample=CHOK1host\n",
    "output=methylation/$sample.cpg.meth.tsv.gz\n",
    "snakemake -j $threads -p $output"
   ]
  },
  {
   "cell_type": "code",
   "execution_count": 69,
   "metadata": {},
   "outputs": [
    {
     "name": "stdout",
     "output_type": "stream",
     "text": [
      "total 19M\n",
      "-rw-r--r-- 1 jupyter-isac jupyter-isac 9.6M Oct 28 03:12 CHOK1IgG.cpg.meth.bam\n",
      "-rw-r--r-- 1 jupyter-isac jupyter-isac 640K Oct 28 03:12 CHOK1IgG.cpg.meth.bam.bai\n",
      "-rw-r--r-- 1 jupyter-isac jupyter-isac 986K Oct 28 02:16 CHOK1IgG.cpg.meth.bed.gz\n",
      "-rw-r--r-- 1 jupyter-isac jupyter-isac 5.5K Oct 28 02:16 CHOK1IgG.cpg.meth.bed.gz.tbi\n",
      "-rw-r--r-- 1 jupyter-isac jupyter-isac 3.8M Oct 31 04:14 CHOK1IgG.cpg.meth.tsv.gz\n",
      "-rw-r--r-- 1 jupyter-isac jupyter-isac   18 Oct 28 02:26 CHOK1IgG.cpg.mfreq.log\n",
      "-rw-r--r-- 1 jupyter-isac jupyter-isac  22K Oct 28 02:26 CHOK1IgG.cpg.mfreq.txt.gz\n",
      "-rw-r--r-- 1 jupyter-isac jupyter-isac 1.4K Oct 28 02:26 CHOK1IgG.cpg.mfreq.txt.gz.tbi\n",
      "-rw-r--r-- 1 jupyter-isac jupyter-isac 2.5M Oct 28 03:12 CHOK1host.cpg.meth.bam\n",
      "-rw-r--r-- 1 jupyter-isac jupyter-isac  51K Oct 28 03:12 CHOK1host.cpg.meth.bam.bai\n",
      "-rw-r--r-- 1 jupyter-isac jupyter-isac 277K Oct 28 02:17 CHOK1host.cpg.meth.bed.gz\n",
      "-rw-r--r-- 1 jupyter-isac jupyter-isac  458 Oct 28 02:17 CHOK1host.cpg.meth.bed.gz.tbi\n",
      "-rw-r--r-- 1 jupyter-isac jupyter-isac 1.1M Oct 31 04:14 CHOK1host.cpg.meth.tsv.gz\n",
      "-rw-r--r-- 1 jupyter-isac jupyter-isac   18 Oct 28 02:27 CHOK1host.cpg.mfreq.log\n",
      "-rw-r--r-- 1 jupyter-isac jupyter-isac  15K Oct 28 02:27 CHOK1host.cpg.mfreq.txt.gz\n",
      "-rw-r--r-- 1 jupyter-isac jupyter-isac  447 Oct 28 02:27 CHOK1host.cpg.mfreq.txt.gz.tbi\n"
     ]
    }
   ],
   "source": [
    "ls -lh $workdir/methylation"
   ]
  },
  {
   "cell_type": "markdown",
   "metadata": {},
   "source": [
    "### make methylation bed files\n",
    "Methylation output from nanopolish is one call per line and not genomically sorted.  \n",
    "This makes the output large and hard to query calls in certain regions.  \n",
    "So I convert them to a bed-style format which can be indexed using tabix for much faster access. \n",
    "```\n",
    "python $codedir/nanopore-methylation-utilities/mtsv2bedGraph.py -g [path/to/reference.fa] -i [path/to/nanopolish.tsv]  |\n",
    "```\n",
    "* -g : path to reference genome\n",
    "* -i : nanopolish methylation output  \n",
    "\n",
    "Then I sort and bgzip the output, followed by tabix indexing\n",
    "```\n",
    "sort -T tmp -k1,1 -k2,2n | \n",
    "bgzip > [output.bed.gz] && \n",
    "tabix -p bed [output.bed.gz]\n",
    "```\n"
   ]
  },
  {
   "cell_type": "code",
   "execution_count": 71,
   "metadata": {},
   "outputs": [],
   "source": [
    "sample=CHOK1IgG\n",
    "input=$workdir/methylation/$sample.cpg.meth.tsv.gz\n",
    "output=$workdir/methylation/$sample.cpg.meth.bed.gz\n",
    "\n",
    "python $codedir/nanopore-methylation-utilities/mtsv2bedGraph.py -g $reference -i $input |\\\n",
    "    sort -k1,1 -k2,2n |\\\n",
    "    bgzip > $output &&\\\n",
    "    tabix -p bed $output\n",
    "    \n",
    "sample=CHOK1host\n",
    "input=$workdir/methylation/$sample.cpg.meth.tsv.gz\n",
    "output=$workdir/methylation/$sample.cpg.meth.bed.gz\n",
    "\n",
    "python $codedir/nanopore-methylation-utilities/mtsv2bedGraph.py -g $reference -i $input |\\\n",
    "    sort -k1,1 -k2,2n |\\\n",
    "    bgzip > $output &&\\\n",
    "    tabix -p bed $output"
   ]
  },
  {
   "cell_type": "code",
   "execution_count": 73,
   "metadata": {},
   "outputs": [
    {
     "name": "stdout",
     "output_type": "stream",
     "text": [
      "\u001b[33mBuilding DAG of jobs...\u001b[0m\n",
      "\u001b[33mUsing shell: /bin/bash\u001b[0m\n",
      "\u001b[33mProvided cores: 1\u001b[0m\n",
      "\u001b[33mRules claiming more threads will be scaled down.\u001b[0m\n",
      "\u001b[33mJob counts:\n",
      "\tcount\tjobs\n",
      "\t1\tmtsv_to_mbed\n",
      "\t1\u001b[0m\n",
      "\u001b[32m\u001b[0m\n",
      "\u001b[32m[Thu Oct 31 04:25:28 2019]\u001b[0m\n",
      "\u001b[32mrule mtsv_to_mbed:\n",
      "    input: methylation/CHOK1IgG.cpg.meth.tsv.gz, /mnt/ref/Cricetulus_griseus_picr.CriGri-PICR.dna.toplevel.nihIgG.fa\n",
      "    output: methylation/CHOK1IgG.cpg.meth.bed.gz\n",
      "    jobid: 0\n",
      "    wildcards: sample=CHOK1IgG\u001b[0m\n",
      "\u001b[32m\u001b[0m\n",
      "\u001b[33mpython ~/ambic-epigenome-dev/nanopore-methylation-utilities/mtsv2bedGraph.py -g /mnt/ref/Cricetulus_griseus_picr.CriGri-PICR.dna.toplevel.nihIgG.fa -i methylation/CHOK1IgG.cpg.meth.tsv.gz | sort -T tmp -k1,1 -k2,2n | bgzip > methylation/CHOK1IgG.cpg.meth.bed.gz && tabix -p bed methylation/CHOK1IgG.cpg.meth.bed.gz\u001b[0m\n",
      "\u001b[32m[Thu Oct 31 04:25:42 2019]\u001b[0m\n",
      "\u001b[32mFinished job 0.\u001b[0m\n",
      "\u001b[32m1 of 1 steps (100%) done\u001b[0m\n",
      "\u001b[33mComplete log: /home/jupyter-isac/ambic-epigenome-dev/.snakemake/log/2019-10-31T042528.461312.snakemake.log\u001b[0m\n",
      "\u001b[33mBuilding DAG of jobs...\u001b[0m\n",
      "\u001b[33mUsing shell: /bin/bash\u001b[0m\n",
      "\u001b[33mProvided cores: 1\u001b[0m\n",
      "\u001b[33mRules claiming more threads will be scaled down.\u001b[0m\n",
      "\u001b[33mJob counts:\n",
      "\tcount\tjobs\n",
      "\t1\tmtsv_to_mbed\n",
      "\t1\u001b[0m\n",
      "\u001b[32m\u001b[0m\n",
      "\u001b[32m[Thu Oct 31 04:25:43 2019]\u001b[0m\n",
      "\u001b[32mrule mtsv_to_mbed:\n",
      "    input: methylation/CHOK1host.cpg.meth.tsv.gz, /mnt/ref/Cricetulus_griseus_picr.CriGri-PICR.dna.toplevel.nihIgG.fa\n",
      "    output: methylation/CHOK1host.cpg.meth.bed.gz\n",
      "    jobid: 0\n",
      "    wildcards: sample=CHOK1host\u001b[0m\n",
      "\u001b[32m\u001b[0m\n",
      "\u001b[33mpython ~/ambic-epigenome-dev/nanopore-methylation-utilities/mtsv2bedGraph.py -g /mnt/ref/Cricetulus_griseus_picr.CriGri-PICR.dna.toplevel.nihIgG.fa -i methylation/CHOK1host.cpg.meth.tsv.gz | sort -T tmp -k1,1 -k2,2n | bgzip > methylation/CHOK1host.cpg.meth.bed.gz && tabix -p bed methylation/CHOK1host.cpg.meth.bed.gz\u001b[0m\n",
      "\u001b[32m[Thu Oct 31 04:25:56 2019]\u001b[0m\n",
      "\u001b[32mFinished job 0.\u001b[0m\n",
      "\u001b[32m1 of 1 steps (100%) done\u001b[0m\n",
      "\u001b[33mComplete log: /home/jupyter-isac/ambic-epigenome-dev/.snakemake/log/2019-10-31T042543.267275.snakemake.log\u001b[0m\n"
     ]
    }
   ],
   "source": [
    "rm $workdir/methylation/*meth.bed.gz\n",
    "sample=CHOK1IgG\n",
    "mbed=methylation/$sample.cpg.meth.bed.gz\n",
    "snakemake -p $mbed\n",
    "sample=CHOK1host\n",
    "mbed=methylation/$sample.cpg.meth.bed.gz\n",
    "snakemake -p $mbed"
   ]
  },
  {
   "cell_type": "markdown",
   "metadata": {},
   "source": [
    "### make methylation frequency files\n",
    "We can then parse the methylation bed files to generate methylation frequencies.  \n",
    "```\n",
    "python -u $codedir/nanopore-methylation-utilities/parseMethylbed.py frequency -i [path/to/input.bed.gz] -m cpg |\n",
    "```\n",
    "The output is already sorted so no additional sorting is necessary, and this can also be bgzipped and tabixed for easy access.  \n",
    "\n",
    "```\n",
    "bgzip > [path/to/output.gz] tabix -b 2 -e 2 [path/to/output.gz]\n",
    "```"
   ]
  },
  {
   "cell_type": "code",
   "execution_count": 74,
   "metadata": {},
   "outputs": [],
   "source": [
    "sample=CHOK1IgG\n",
    "input=$workdir/methylation/$sample.cpg.meth.bed.gz\n",
    "output=$workdir/methylation/$sample.cpg.mfreq.txt.gz\n",
    "python -u $codedir/nanopore-methylation-utilities/parseMethylbed.py frequency -i $input -m cpg |\\\n",
    "    bgzip > $output && tabix -b 2 -e 2 $output\n",
    "    \n",
    "sample=CHOK1host\n",
    "input=$workdir/methylation/$sample.cpg.meth.bed.gz\n",
    "output=$workdir/methylation/$sample.cpg.mfreq.txt.gz\n",
    "python -u $codedir/nanopore-methylation-utilities/parseMethylbed.py frequency -i $input -m cpg |\\\n",
    "    bgzip > $output && tabix -b 2 -e 2 $output"
   ]
  },
  {
   "cell_type": "code",
   "execution_count": 76,
   "metadata": {},
   "outputs": [
    {
     "name": "stdout",
     "output_type": "stream",
     "text": [
      "\u001b[33mBuilding DAG of jobs...\u001b[0m\n",
      "\u001b[33mUsing shell: /bin/bash\u001b[0m\n",
      "\u001b[33mProvided cores: 1\u001b[0m\n",
      "\u001b[33mRules claiming more threads will be scaled down.\u001b[0m\n",
      "\u001b[33mJob counts:\n",
      "\tcount\tjobs\n",
      "\t1\tmbed_to_mfreq\n",
      "\t1\u001b[0m\n",
      "\u001b[32m\u001b[0m\n",
      "\u001b[32m[Thu Oct 31 04:28:32 2019]\u001b[0m\n",
      "\u001b[32mrule mbed_to_mfreq:\n",
      "    input: methylation/CHOK1IgG.cpg.meth.bed.gz\n",
      "    output: methylation/CHOK1IgG.cpg.mfreq.txt.gz\n",
      "    log: methylation/CHOK1IgG.cpg.mfreq.log\n",
      "    jobid: 0\n",
      "    wildcards: sample=CHOK1IgG, mod=cpg\u001b[0m\n",
      "\u001b[32m\u001b[0m\n",
      "\u001b[32m[Thu Oct 31 04:28:33 2019]\u001b[0m\n",
      "\u001b[32mFinished job 0.\u001b[0m\n",
      "\u001b[32m1 of 1 steps (100%) done\u001b[0m\n",
      "\u001b[33mComplete log: /home/jupyter-isac/ambic-epigenome-dev/.snakemake/log/2019-10-31T042832.126751.snakemake.log\u001b[0m\n",
      "\u001b[33mBuilding DAG of jobs...\u001b[0m\n",
      "\u001b[33mUsing shell: /bin/bash\u001b[0m\n",
      "\u001b[33mProvided cores: 1\u001b[0m\n",
      "\u001b[33mRules claiming more threads will be scaled down.\u001b[0m\n",
      "\u001b[33mJob counts:\n",
      "\tcount\tjobs\n",
      "\t1\tmbed_to_mfreq\n",
      "\t1\u001b[0m\n",
      "\u001b[32m\u001b[0m\n",
      "\u001b[32m[Thu Oct 31 04:28:34 2019]\u001b[0m\n",
      "\u001b[32mrule mbed_to_mfreq:\n",
      "    input: methylation/CHOK1host.cpg.meth.bed.gz\n",
      "    output: methylation/CHOK1host.cpg.mfreq.txt.gz\n",
      "    log: methylation/CHOK1host.cpg.mfreq.log\n",
      "    jobid: 0\n",
      "    wildcards: sample=CHOK1host, mod=cpg\u001b[0m\n",
      "\u001b[32m\u001b[0m\n",
      "\u001b[32m[Thu Oct 31 04:28:34 2019]\u001b[0m\n",
      "\u001b[32mFinished job 0.\u001b[0m\n",
      "\u001b[32m1 of 1 steps (100%) done\u001b[0m\n",
      "\u001b[33mComplete log: /home/jupyter-isac/ambic-epigenome-dev/.snakemake/log/2019-10-31T042833.769393.snakemake.log\u001b[0m\n"
     ]
    }
   ],
   "source": [
    "rm $workdir/methylation/*mfreq.txt.gz\n",
    "sample=CHOK1IgG\n",
    "mfreq=methylation/$sample.cpg.mfreq.txt.gz\n",
    "snakemake $mfreq\n",
    "\n",
    "sample=CHOK1host\n",
    "mfreq=methylation/$sample.cpg.mfreq.txt.gz\n",
    "snakemake $mfreq"
   ]
  },
  {
   "cell_type": "markdown",
   "metadata": {},
   "source": [
    "The resulting methylation frequency file is the same format as bismark methylation report, so the NGS BS-seq analysis methods can be used.  \n",
    "One example is to load onto R and plot a region of interest.\n",
    "\n",
    "![methylation](../img/CHOK1IgG_methylation.PNG)"
   ]
  },
  {
   "cell_type": "markdown",
   "metadata": {},
   "source": [
    "### make methylation bam\n",
    "Another thing you can do is mark the bam files with methylation and view methylation on IGV using IGV's bisulfite mode.  \n",
    "```\n",
    "python $codedir/nanopore-methylation-utilities/convert_bam_for_methylation.py -t [threads] -c [path/to/cpg.bed.gz] -b [path/to/bam] |\\\n",
    "    samtools sort -o [path/to/out.bam] && samtools index [path/to/out.bam]\n",
    "```\n",
    "* -c : path to cpg.meth.bed.gz \n",
    "* -b : path to bam file\n",
    "Once the methylation encoded bam files are generated, they can be exported to IGV to see methylation on individual reads"
   ]
  },
  {
   "cell_type": "code",
   "execution_count": 79,
   "metadata": {},
   "outputs": [],
   "source": [
    "sample=CHOK1IgG\n",
    "methbed=$workdir/methylation/$sample.cpg.meth.bed.gz\n",
    "bam=$workdir/bam/$sample.minimap2.sorted.bam\n",
    "output=$workdir/methylation/$sample.cpg.meth.bam\n",
    "python $codedir/nanopore-methylation-utilities/convert_bam_for_methylation.py -t $threads -c $methbed -b $bam |\\\n",
    "    samtools sort -o $output && samtools index $output\n",
    "    \n",
    "sample=CHOK1host\n",
    "methbed=$workdir/methylation/$sample.cpg.meth.bed.gz\n",
    "bam=$workdir/bam/$sample.minimap2.sorted.bam\n",
    "output=$workdir/methylation/$sample.cpg.meth.bam\n",
    "python $codedir/nanopore-methylation-utilities/convert_bam_for_methylation.py -t $threads -c $methbed -b $bam |\\\n",
    "    samtools sort -o $output && samtools index $output"
   ]
  },
  {
   "cell_type": "code",
   "execution_count": 80,
   "metadata": {},
   "outputs": [
    {
     "name": "stdout",
     "output_type": "stream",
     "text": [
      "\u001b[33mBuilding DAG of jobs...\u001b[0m\n",
      "\u001b[33mUsing shell: /bin/bash\u001b[0m\n",
      "\u001b[33mProvided cores: 12\u001b[0m\n",
      "\u001b[33mRules claiming more threads will be scaled down.\u001b[0m\n",
      "\u001b[33mJob counts:\n",
      "\tcount\tjobs\n",
      "\t1\tbam_methylation\n",
      "\t1\u001b[0m\n",
      "\u001b[32m\u001b[0m\n",
      "\u001b[32m[Thu Oct 31 04:39:57 2019]\u001b[0m\n",
      "\u001b[32mrule bam_methylation:\n",
      "    input: methylation/CHOK1host.cpg.meth.bed.gz, bam/CHOK1host.minimap2.sorted.bam\n",
      "    output: methylation/CHOK1host.cpg.meth.bam\n",
      "    jobid: 0\n",
      "    wildcards: sample=CHOK1host\n",
      "    threads: 12\u001b[0m\n",
      "\u001b[32m\u001b[0m\n",
      "\u001b[33mpython ~/ambic-epigenome-dev/nanopore-methylation-utilities/convert_bam_for_methylation.py -t 12 -c methylation/CHOK1host.cpg.meth.bed.gz -b bam/CHOK1host.minimap2.sorted.bam | samtools sort -o methylation/CHOK1host.cpg.meth.bam && samtools index methylation/CHOK1host.cpg.meth.bam\u001b[0m\n",
      "\u001b[32m[Thu Oct 31 04:40:00 2019]\u001b[0m\n",
      "\u001b[32mFinished job 0.\u001b[0m\n",
      "\u001b[32m1 of 1 steps (100%) done\u001b[0m\n",
      "\u001b[33mComplete log: /home/jupyter-isac/ambic-epigenome-dev/.snakemake/log/2019-10-31T043957.596446.snakemake.log\u001b[0m\n",
      "\u001b[33mBuilding DAG of jobs...\u001b[0m\n",
      "\u001b[33mUsing shell: /bin/bash\u001b[0m\n",
      "\u001b[33mProvided cores: 12\u001b[0m\n",
      "\u001b[33mRules claiming more threads will be scaled down.\u001b[0m\n",
      "\u001b[33mJob counts:\n",
      "\tcount\tjobs\n",
      "\t1\tbam_methylation\n",
      "\t1\u001b[0m\n",
      "\u001b[32m\u001b[0m\n",
      "\u001b[32m[Thu Oct 31 04:40:01 2019]\u001b[0m\n",
      "\u001b[32mrule bam_methylation:\n",
      "    input: methylation/CHOK1IgG.cpg.meth.bed.gz, bam/CHOK1IgG.minimap2.sorted.bam\n",
      "    output: methylation/CHOK1IgG.cpg.meth.bam\n",
      "    jobid: 0\n",
      "    wildcards: sample=CHOK1IgG\n",
      "    threads: 12\u001b[0m\n",
      "\u001b[32m\u001b[0m\n",
      "\u001b[33mpython ~/ambic-epigenome-dev/nanopore-methylation-utilities/convert_bam_for_methylation.py -t 12 -c methylation/CHOK1IgG.cpg.meth.bed.gz -b bam/CHOK1IgG.minimap2.sorted.bam | samtools sort -o methylation/CHOK1IgG.cpg.meth.bam && samtools index methylation/CHOK1IgG.cpg.meth.bam\u001b[0m\n",
      "\u001b[32m[Thu Oct 31 04:40:20 2019]\u001b[0m\n",
      "\u001b[32mFinished job 0.\u001b[0m\n",
      "\u001b[32m1 of 1 steps (100%) done\u001b[0m\n",
      "\u001b[33mComplete log: /home/jupyter-isac/ambic-epigenome-dev/.snakemake/log/2019-10-31T044001.212913.snakemake.log\u001b[0m\n"
     ]
    }
   ],
   "source": [
    "rm $workdir/methylation/*bam*\n",
    "sample=CHOK1host\n",
    "outbam=methylation/$sample.cpg.meth.bam\n",
    "snakemake -p -j $threads $outbam\n",
    "\n",
    "sample=CHOK1IgG\n",
    "outbam=methylation/$sample.cpg.meth.bam\n",
    "snakemake -p -j $threads $outbam"
   ]
  },
  {
   "cell_type": "markdown",
   "metadata": {},
   "source": [
    "Visualizing on IGV with bisulfite viewing mode : \n",
    "\n",
    "Host :  \n",
    "![methbam_host](../img/CHOK1host_methbam.PNG)\n",
    "\n",
    "IgG :   \n",
    "![methbam_igg](../img/CHOK1IgG_methbam.PNG)"
   ]
  }
 ],
 "metadata": {
  "kernelspec": {
   "display_name": "Bash",
   "language": "bash",
   "name": "bash"
  },
  "language_info": {
   "codemirror_mode": "shell",
   "file_extension": ".sh",
   "mimetype": "text/x-sh",
   "name": "bash"
  }
 },
 "nbformat": 4,
 "nbformat_minor": 4
}
